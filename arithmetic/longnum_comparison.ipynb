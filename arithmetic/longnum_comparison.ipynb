{
  "nbformat": 4,
  "nbformat_minor": 0,
  "metadata": {
    "colab": {
      "provenance": []
    },
    "kernelspec": {
      "name": "python3",
      "display_name": "Python 3"
    },
    "language_info": {
      "name": "python"
    }
  },
  "cells": [
    {
      "cell_type": "code",
      "source": [
        "%%capture\n",
        "# ! pip install compyle\n",
        "# ! pip install pyopencl\n",
        "# ! pip install pycuda"
      ],
      "metadata": {
        "id": "Tqwc7cVLaGhs"
      },
      "execution_count": 1,
      "outputs": []
    },
    {
      "cell_type": "code",
      "execution_count": 2,
      "metadata": {
        "id": "xY-tAfxeDPb_"
      },
      "outputs": [],
      "source": [
        "import numpy as np\n",
        "import numba as nb\n",
        "from numba import uint32,uint64,njit\n",
        "from numba.experimental import jitclass\n",
        "# from compyle.api import annotate,wrap,get_config\n",
        "from time import perf_counter\n",
        "import matplotlib.pyplot as plt\n",
        "\n",
        "maxInt = np.uint32(4294967295)"
      ]
    },
    {
      "cell_type": "code",
      "source": [],
      "metadata": {
        "id": "Hgv3AsOd3o1k"
      },
      "execution_count": 2,
      "outputs": []
    },
    {
      "cell_type": "code",
      "source": [],
      "metadata": {
        "id": "oO626rEPcnYt"
      },
      "execution_count": 2,
      "outputs": []
    },
    {
      "cell_type": "markdown",
      "source": [
        "## Tesing Python's inbuilt 'int' type"
      ],
      "metadata": {
        "id": "jmNMRtk2AKfl"
      }
    },
    {
      "cell_type": "code",
      "source": [
        "tlist = []\n",
        "p = 0\n",
        "q = 0\n",
        "for i in range(1024):\n",
        "    p = p+(2**i)\n",
        "    q = q+(2**i)\n",
        "    tstart = perf_counter()\n",
        "    c = p+q\n",
        "    texec = perf_counter()-tstart\n",
        "    tlist.append(texec)"
      ],
      "metadata": {
        "id": "62f6ydioLPJP"
      },
      "execution_count": 3,
      "outputs": []
    },
    {
      "cell_type": "code",
      "source": [
        "%timeit c=p+q"
      ],
      "metadata": {
        "colab": {
          "base_uri": "https://localhost:8080/"
        },
        "id": "VnPxjKeFMd90",
        "outputId": "dc425d94-9648-4f6e-c1c7-1bf7e29c86d4"
      },
      "execution_count": 4,
      "outputs": [
        {
          "output_type": "stream",
          "name": "stdout",
          "text": [
            "203 ns ± 104 ns per loop (mean ± std. dev. of 7 runs, 10000000 loops each)\n"
          ]
        }
      ]
    },
    {
      "cell_type": "markdown",
      "source": [
        "## Custom implemetation of arithmetic on large size integers, with numpy arrays"
      ],
      "metadata": {
        "id": "QHvJkW-JAX7i"
      }
    },
    {
      "cell_type": "code",
      "source": [
        "def add(x, y, res):\n",
        "    carry = 0\n",
        "    for i in range(32):\n",
        "        res[i] = x[i]+carry\n",
        "        carry = (res[i]<x[i])\n",
        "        res[i] = y[i]+res[i]\n",
        "        carry = (res[i]<y[i] or carry)"
      ],
      "metadata": {
        "id": "RsFJVR6ZTq_8"
      },
      "execution_count": 5,
      "outputs": []
    },
    {
      "cell_type": "code",
      "source": [
        "x1 = np.zeros((32,),dtype='uint32')\n",
        "y1 = np.zeros((32,),dtype='uint32')\n",
        "z1 = np.zeros((32,),dtype='uint32')\n",
        "x1[:-1] = maxInt\n",
        "x1[31] = maxInt/2\n",
        "y1[:-1] = maxInt\n",
        "y1[31] = maxInt/2\n",
        "\n",
        "# backend = 'cython'\n",
        "# get_config().use_openmp = True\n",
        "# x1, y1, z1 = wrap(x1, y1, z1, backend=backend)"
      ],
      "metadata": {
        "id": "EPYZ0kpbap7i"
      },
      "execution_count": 6,
      "outputs": []
    },
    {
      "cell_type": "code",
      "source": [
        "add(x1,y1,z1)\n",
        "print(np.flip(z1))\n",
        "%timeit add(x1,y1,z1)"
      ],
      "metadata": {
        "colab": {
          "base_uri": "https://localhost:8080/"
        },
        "id": "yxdn9EN-X6V8",
        "outputId": "4da73a61-3c89-44a1-fb14-4ebb296f4821"
      },
      "execution_count": 7,
      "outputs": [
        {
          "output_type": "stream",
          "name": "stdout",
          "text": [
            "[4294967295 4294967295 4294967295 4294967295 4294967295 4294967295\n",
            " 4294967295 4294967295 4294967295 4294967295 4294967295 4294967295\n",
            " 4294967295 4294967295 4294967295 4294967295 4294967295 4294967295\n",
            " 4294967295 4294967295 4294967295 4294967295 4294967295 4294967295\n",
            " 4294967295 4294967295 4294967295 4294967295 4294967295 4294967295\n",
            " 4294967295 4294967294]\n"
          ]
        },
        {
          "output_type": "stream",
          "name": "stderr",
          "text": [
            "<ipython-input-5-80b6a2b14194>:6: RuntimeWarning: overflow encountered in uint_scalars\n",
            "  res[i] = y[i]+res[i]\n"
          ]
        },
        {
          "output_type": "stream",
          "name": "stdout",
          "text": [
            "128 µs ± 37.7 µs per loop (mean ± std. dev. of 7 runs, 10000 loops each)\n"
          ]
        }
      ]
    },
    {
      "cell_type": "markdown",
      "source": [
        "## Optimizations using numba with jitclass"
      ],
      "metadata": {
        "id": "dYuPXo01A3d0"
      }
    },
    {
      "cell_type": "code",
      "source": [
        "@jitclass([\n",
        "    ('arrSize', uint32),               # a simple scalar field\n",
        "    ('array', uint32[:]),          # an array field\n",
        "])\n",
        "class BigInt:\n",
        "    def __init__(self):\n",
        "        self.arrSize = 0\n",
        "        self.array = np.zeros(32, dtype=np.uint32)\n",
        "\n",
        "\n",
        "    def storeArr(self, arr):\n",
        "        self.arrSize = arr.shape[0]\n",
        "        for i in range(self.arrSize):\n",
        "            self.array[i] = arr[i]\n",
        "\n",
        "\n",
        "    def add(x, y, res):\n",
        "        carry = 0\n",
        "        for i in range(min(x.arrSize,y.arrSize)):\n",
        "            res.array[i] = y.array[i]+x.array[i]+carry\n",
        "            if res.array[i]<x.array[i] or res.array[i]<y.array[i]:  #overflow\n",
        "                carry = 1\n",
        "            else:\n",
        "                carry = 0\n",
        "\n",
        "        if x.arrSize>y.arrSize:\n",
        "            for i in range(y.arrSize,x.arrSize):\n",
        "                res.array[i] = x.array[i] + carry\n",
        "                carry = 1 if res.array[i]==0 else 0\n",
        "            res.array[x.arrSize-1] = carry\n",
        "            res.arrSize = x.arrSize + carry\n",
        "        else:\n",
        "            for i in range(x.arrSize,y.arrSize):\n",
        "                res.array[i] = y.array[i] + carry\n",
        "                carry = 1 if res.array[i]==0 else 0\n",
        "            res.array[y.arrSize-1] = carry\n",
        "            res.arrSize = y.arrSize + carry\n",
        "\n",
        "        for i in range(max(x.arrSize,y.arrSize)+carry,32):\n",
        "            res.array[i]=0\n",
        "\n",
        "\n",
        "    def subtract(x, y, res):\n",
        "        borrow = 0\n",
        "        sz = x.arrSize if x.arrSize>=y.arrSize else 32\n",
        "        for i in range(sz):\n",
        "            if (borrow==0 or x.array[i]>0) and x.array[i]-borrow>=y.array[i]:\n",
        "                res.array[i] = (x.array[i]-borrow)-y.array[i]\n",
        "                borrow = 0\n",
        "            else:\n",
        "                res.array[i] = x.array[i]+(maxInt-y.array[i])+(1-borrow)\n",
        "                borrow = 1\n",
        "\n",
        "        for i in range(sz,32):\n",
        "            res.array[i] = maxInt*borrow\n",
        "\n",
        "        return borrow\n",
        "\n",
        "    def multiply(x, y, res):\n",
        "        xl = BigInt()"
      ],
      "metadata": {
        "id": "CPEWSJ2FFQm0"
      },
      "execution_count": 8,
      "outputs": []
    },
    {
      "cell_type": "code",
      "source": [
        "a = BigInt()\n",
        "b = BigInt()\n",
        "c = BigInt()\n",
        "a1 = np.zeros((32,),dtype='uint32')\n",
        "b1 = np.zeros((32,),dtype='uint32')\n",
        "a1[0:-1] = maxInt\n",
        "a1[31] = maxInt/2\n",
        "b1[0:-1] = maxInt\n",
        "b1[31] = maxInt/2\n",
        "a.storeArr(a1)\n",
        "b.storeArr(b1)"
      ],
      "metadata": {
        "id": "YbSssSsSOe0X"
      },
      "execution_count": 9,
      "outputs": []
    },
    {
      "cell_type": "code",
      "source": [
        "BigInt.add(a,b,c)\n",
        "%timeit BigInt.add(a,b,c)\n",
        "print(np.flip(c.array))"
      ],
      "metadata": {
        "colab": {
          "base_uri": "https://localhost:8080/"
        },
        "id": "82OhnYWbRp-B",
        "outputId": "6f611182-dd37-48db-d9dc-9882a469526c"
      },
      "execution_count": 10,
      "outputs": [
        {
          "output_type": "stream",
          "name": "stderr",
          "text": [
            "<ipython-input-8-20e517936b32>:20: RuntimeWarning: overflow encountered in uint_scalars\n",
            "  res.array[i] = y.array[i]+x.array[i]+carry\n",
            "<ipython-input-8-20e517936b32>:20: RuntimeWarning: overflow encountered in uint_scalars\n",
            "  res.array[i] = y.array[i]+x.array[i]+carry\n"
          ]
        },
        {
          "output_type": "stream",
          "name": "stdout",
          "text": [
            "324 µs ± 6.26 µs per loop (mean ± std. dev. of 7 runs, 1000 loops each)\n",
            "[         0 4294967294 4294967295 4294967294 4294967295 4294967294\n",
            " 4294967295 4294967294 4294967295 4294967294 4294967295 4294967294\n",
            " 4294967295 4294967294 4294967295 4294967294 4294967295 4294967294\n",
            " 4294967295 4294967294 4294967295 4294967294 4294967295 4294967294\n",
            " 4294967295 4294967294 4294967295 4294967294 4294967295 4294967294\n",
            " 4294967295 4294967294]\n"
          ]
        }
      ]
    },
    {
      "cell_type": "code",
      "source": [
        "a1[:] = 0\n",
        "b1[:] = maxInt\n",
        "a.storeArr(a1)\n",
        "b.storeArr(b1)"
      ],
      "metadata": {
        "id": "w4nkprhe9mYh"
      },
      "execution_count": 11,
      "outputs": []
    },
    {
      "cell_type": "code",
      "source": [
        "borrow = BigInt.subtract(b,a,c)\n",
        "%timeit BigInt.subtract(b,a,c)\n",
        "print(borrow, np.flip(c.array))"
      ],
      "metadata": {
        "colab": {
          "base_uri": "https://localhost:8080/"
        },
        "id": "0lqy1FffS8fm",
        "outputId": "e856159e-1ee0-42bc-d212-2fb5b2242c20"
      },
      "execution_count": 12,
      "outputs": [
        {
          "output_type": "stream",
          "name": "stdout",
          "text": [
            "330 µs ± 7.75 µs per loop (mean ± std. dev. of 7 runs, 1000 loops each)\n",
            "0 [4294967295 4294967295 4294967295 4294967295 4294967295 4294967295\n",
            " 4294967295 4294967295 4294967295 4294967295 4294967295 4294967295\n",
            " 4294967295 4294967295 4294967295 4294967295 4294967295 4294967295\n",
            " 4294967295 4294967295 4294967295 4294967295 4294967295 4294967295\n",
            " 4294967295 4294967295 4294967295 4294967295 4294967295 4294967295\n",
            " 4294967295 4294967295]\n"
          ]
        }
      ]
    },
    {
      "cell_type": "markdown",
      "source": [
        "## Optimations using numba with njit over numpy arrays (with size specified)"
      ],
      "metadata": {
        "id": "nYlREMZMBFPx"
      }
    },
    {
      "cell_type": "code",
      "source": [
        "@njit\n",
        "def add(x, y, res):\n",
        "    carry = 0\n",
        "    for i in range(min(x[32],y[32])):\n",
        "        res[i] = y[i]+x[i]+carry\n",
        "        if res[i]<x[i] or res[i]<y[i]:  #overflow\n",
        "            carry = 1\n",
        "        else:\n",
        "            carry = 0\n",
        "\n",
        "    if x[32]>y[32]:\n",
        "        for i in range(y[32],x[32]):\n",
        "            res[i] = x[i] + carry\n",
        "            carry = 1 if res[i]==0 else 0\n",
        "        res[x[32]] = carry\n",
        "        res[32] = x[32] + carry\n",
        "    else:\n",
        "        for i in range(x[32],y[32]):\n",
        "            res[i] = y[i] + carry\n",
        "            carry = 1 if res[i]==0 else 0\n",
        "        res[y[32]] = carry\n",
        "        res[32] = y[32] + carry\n",
        "\n",
        "    for i in range(max(x[32],y[32])+carry,32):\n",
        "        res[i]=0"
      ],
      "metadata": {
        "id": "HJfxDFWsc2SK"
      },
      "execution_count": 13,
      "outputs": []
    },
    {
      "cell_type": "code",
      "source": [
        "x1 = np.zeros((33,),dtype='uint32')\n",
        "y1 = np.zeros((33,),dtype='uint32')\n",
        "z1 = np.zeros((33,),dtype='uint32')\n",
        "x1[:-2] = maxInt\n",
        "x1[31] = maxInt/2\n",
        "x1[32] = 32\n",
        "y1[:-2] = maxInt\n",
        "y1[31] = maxInt/2\n",
        "y1[32] = 32\n",
        "print(np.flip(x1))"
      ],
      "metadata": {
        "colab": {
          "base_uri": "https://localhost:8080/"
        },
        "id": "h0WIOfnoQa0c",
        "outputId": "bd7cec48-e897-4121-df0c-95cad36322d8"
      },
      "execution_count": 14,
      "outputs": [
        {
          "output_type": "stream",
          "name": "stdout",
          "text": [
            "[        32 2147483647 4294967295 4294967295 4294967295 4294967295\n",
            " 4294967295 4294967295 4294967295 4294967295 4294967295 4294967295\n",
            " 4294967295 4294967295 4294967295 4294967295 4294967295 4294967295\n",
            " 4294967295 4294967295 4294967295 4294967295 4294967295 4294967295\n",
            " 4294967295 4294967295 4294967295 4294967295 4294967295 4294967295\n",
            " 4294967295 4294967295 4294967295]\n"
          ]
        }
      ]
    },
    {
      "cell_type": "code",
      "source": [
        "add(x1,y1,z1)\n",
        "print(np.flip(z1))\n",
        "%timeit add(x1,y1,z1)"
      ],
      "metadata": {
        "colab": {
          "base_uri": "https://localhost:8080/"
        },
        "id": "jhjaJhxpQ0ZW",
        "outputId": "b3da811c-4f32-4c70-906f-0690f64edc2a"
      },
      "execution_count": 15,
      "outputs": [
        {
          "output_type": "stream",
          "name": "stdout",
          "text": [
            "[        32 4294967295 4294967294 4294967295 4294967294 4294967295\n",
            " 4294967294 4294967295 4294967294 4294967295 4294967294 4294967295\n",
            " 4294967294 4294967295 4294967294 4294967295 4294967294 4294967295\n",
            " 4294967294 4294967295 4294967294 4294967295 4294967294 4294967295\n",
            " 4294967294 4294967295 4294967294 4294967295 4294967294 4294967295\n",
            " 4294967294 4294967295 4294967294]\n",
            "837 ns ± 266 ns per loop (mean ± std. dev. of 7 runs, 1000000 loops each)\n"
          ]
        }
      ]
    },
    {
      "cell_type": "markdown",
      "source": [
        "## Optimations using numba with njit over numpy arrays (64-bit)"
      ],
      "metadata": {
        "id": "HQfz5CYfBWuj"
      }
    },
    {
      "cell_type": "code",
      "source": [
        "@njit\n",
        "def add64(x, y, res):\n",
        "    carry = 0\n",
        "    for i in range(16):\n",
        "        res[i] = x[i]+carry\n",
        "        carry = (res[i]<x[i])\n",
        "        res[i] = y[i]+res[i]\n",
        "        carry = (res[i]<y[i] or carry)"
      ],
      "metadata": {
        "id": "3CHV5Ds8d6Ci"
      },
      "execution_count": 16,
      "outputs": []
    },
    {
      "cell_type": "code",
      "source": [
        "x2 = np.zeros((16,),dtype='uint64')\n",
        "y2 = np.zeros((16,),dtype='uint64')\n",
        "z2 = np.zeros((16,),dtype='uint64')\n",
        "x2[:-1] = maxInt*2+1\n",
        "x2[15] = maxInt\n",
        "y2[:-1] = maxInt*2+1\n",
        "y2[15] = maxInt\n",
        "print(np.flip(x2))"
      ],
      "metadata": {
        "id": "pj8IhCX2d6CX",
        "colab": {
          "base_uri": "https://localhost:8080/"
        },
        "outputId": "7b68c42a-1f45-43f2-c768-849e3858a93d"
      },
      "execution_count": 17,
      "outputs": [
        {
          "output_type": "stream",
          "name": "stdout",
          "text": [
            "[4294967295 8589934591 8589934591 8589934591 8589934591 8589934591\n",
            " 8589934591 8589934591 8589934591 8589934591 8589934591 8589934591\n",
            " 8589934591 8589934591 8589934591 8589934591]\n"
          ]
        }
      ]
    },
    {
      "cell_type": "code",
      "source": [
        "add64(x2,y2,z2)\n",
        "print(np.flip(z2))\n",
        "%timeit add64(x2,y2,z2)"
      ],
      "metadata": {
        "id": "69Hhvzwid6Ci",
        "colab": {
          "base_uri": "https://localhost:8080/"
        },
        "outputId": "0af75afb-ad69-4d9b-f6f0-aee87e086767"
      },
      "execution_count": 18,
      "outputs": [
        {
          "output_type": "stream",
          "name": "stdout",
          "text": [
            "[ 8589934590 17179869182 17179869182 17179869182 17179869182 17179869182\n",
            " 17179869182 17179869182 17179869182 17179869182 17179869182 17179869182\n",
            " 17179869182 17179869182 17179869182 17179869182]\n",
            "616 ns ± 10.7 ns per loop (mean ± std. dev. of 7 runs, 1000000 loops each)\n"
          ]
        }
      ]
    },
    {
      "cell_type": "markdown",
      "source": [
        "## Optimations using numba with njit over numpy arrays (simplified conditionals)"
      ],
      "metadata": {
        "id": "C-yl5HHMBkNt"
      }
    },
    {
      "cell_type": "code",
      "source": [
        "@njit\n",
        "def add(x, y, res):\n",
        "    carry = 0\n",
        "    for i in range(32):\n",
        "        res[i] = x[i]+carry\n",
        "        carry = (res[i]<x[i])\n",
        "        res[i] = y[i]+res[i]\n",
        "        carry = (res[i]<y[i] or carry)"
      ],
      "metadata": {
        "id": "6utZyuepbxEO"
      },
      "execution_count": 19,
      "outputs": []
    },
    {
      "cell_type": "code",
      "source": [
        "x1 = np.zeros((32,),dtype='uint32')\n",
        "y1 = np.zeros((32,),dtype='uint32')\n",
        "z1 = np.zeros((32,),dtype='uint32')\n",
        "x1[:-1] = maxInt\n",
        "x1[31] = maxInt/2\n",
        "y1[:-1] = maxInt\n",
        "y1[31] = maxInt/2\n",
        "print(np.flip(x1))"
      ],
      "metadata": {
        "colab": {
          "base_uri": "https://localhost:8080/"
        },
        "id": "DXoaMW1f3ePi",
        "outputId": "d927dae1-777d-4897-f5d4-c31eca449a31"
      },
      "execution_count": 20,
      "outputs": [
        {
          "output_type": "stream",
          "name": "stdout",
          "text": [
            "[2147483647 4294967295 4294967295 4294967295 4294967295 4294967295\n",
            " 4294967295 4294967295 4294967295 4294967295 4294967295 4294967295\n",
            " 4294967295 4294967295 4294967295 4294967295 4294967295 4294967295\n",
            " 4294967295 4294967295 4294967295 4294967295 4294967295 4294967295\n",
            " 4294967295 4294967295 4294967295 4294967295 4294967295 4294967295\n",
            " 4294967295 4294967295]\n"
          ]
        }
      ]
    },
    {
      "cell_type": "code",
      "source": [
        "add(x1,y1,z1)\n",
        "print(np.flip(z1))\n",
        "%timeit add(x1,y1,z1)"
      ],
      "metadata": {
        "colab": {
          "base_uri": "https://localhost:8080/"
        },
        "id": "U_tWJMZbbytA",
        "outputId": "3ae33f3a-fb37-478a-c147-3316a3da3477"
      },
      "execution_count": 21,
      "outputs": [
        {
          "output_type": "stream",
          "name": "stdout",
          "text": [
            "[4294967295 4294967295 4294967295 4294967295 4294967295 4294967295\n",
            " 4294967295 4294967295 4294967295 4294967295 4294967295 4294967295\n",
            " 4294967295 4294967295 4294967295 4294967295 4294967295 4294967295\n",
            " 4294967295 4294967295 4294967295 4294967295 4294967295 4294967295\n",
            " 4294967295 4294967295 4294967295 4294967295 4294967295 4294967295\n",
            " 4294967295 4294967294]\n",
            "709 ns ± 151 ns per loop (mean ± std. dev. of 7 runs, 1000000 loops each)\n"
          ]
        }
      ]
    },
    {
      "cell_type": "code",
      "source": [
        "@njit\n",
        "def subtract(x, y, res):\n",
        "    borrow = 0\n",
        "    for i in range(32):\n",
        "        if (borrow==0 or x[i]>0) and x[i]-borrow>=y[i]:\n",
        "            res[i] = (x[i]-borrow)-y[i]\n",
        "            borrow = 0\n",
        "        else:\n",
        "            res[i] = x[i]+(maxInt-y[i])+(1-borrow)\n",
        "            borrow = 1\n",
        "    return borrow"
      ],
      "metadata": {
        "id": "RFD6wbLsYH0_"
      },
      "execution_count": 22,
      "outputs": []
    },
    {
      "cell_type": "code",
      "source": [
        "x1 = np.zeros((32,),dtype='uint32')\n",
        "y1 = np.zeros((32,),dtype='uint32')\n",
        "z1 = np.zeros((32,),dtype='uint32')\n",
        "y1[:] = maxInt"
      ],
      "metadata": {
        "id": "E5rext9e7_jS"
      },
      "execution_count": 23,
      "outputs": []
    },
    {
      "cell_type": "code",
      "source": [
        "borrow = subtract(x1,y1,z1)\n",
        "print(borrow, np.flip(z1))\n",
        "%timeit subtract(x1,y1,z1)"
      ],
      "metadata": {
        "colab": {
          "base_uri": "https://localhost:8080/"
        },
        "id": "ddPZDjAtct_P",
        "outputId": "124ba94b-da8d-4d3d-9d51-a83b7dff4394"
      },
      "execution_count": 24,
      "outputs": [
        {
          "output_type": "stream",
          "name": "stdout",
          "text": [
            "1 [0 0 0 0 0 0 0 0 0 0 0 0 0 0 0 0 0 0 0 0 0 0 0 0 0 0 0 0 0 0 0 1]\n",
            "662 ns ± 102 ns per loop (mean ± std. dev. of 7 runs, 1000000 loops each)\n"
          ]
        }
      ]
    },
    {
      "cell_type": "code",
      "source": [
        "# partial products\n",
        "@njit\n",
        "def pp(i, x, y, p):\n",
        "    temp = np.zeros((1,),'uint64')\n",
        "    c = np.zeros((1,),'uint32')\n",
        "    for j in range(32-i):\n",
        "        temp[0] = x[i]*y[j]\n",
        "        p[i+j] = c[0]+temp[0]\n",
        "        c[0] = temp[0]>>32"
      ],
      "metadata": {
        "id": "QhFXiPB1lb2H"
      },
      "execution_count": 25,
      "outputs": []
    },
    {
      "cell_type": "code",
      "source": [
        "# multiply (uses pp and add)\n",
        "@njit\n",
        "def multiply(x, y, res):\n",
        "    temp = np.zeros((32,),'uint32')\n",
        "    for i in range(31):\n",
        "        p = np.zeros((32,),'uint32')\n",
        "        pp(i,x,y,p)\n",
        "        add(temp,p,res)\n",
        "        temp = res.copy()"
      ],
      "metadata": {
        "id": "XBxt34HM5B7d"
      },
      "execution_count": 26,
      "outputs": []
    },
    {
      "cell_type": "code",
      "source": [
        "x1 = np.zeros((32,),dtype='uint32')\n",
        "y1 = np.zeros((32,),dtype='uint32')\n",
        "z1 = np.zeros((32,),dtype='uint32')\n",
        "x1[0:15] = maxInt\n",
        "y1[0:15] = maxInt\n",
        "print(np.flip(x1))"
      ],
      "metadata": {
        "colab": {
          "base_uri": "https://localhost:8080/"
        },
        "id": "UNHn2rpQmgY_",
        "outputId": "d1963ed7-e219-49eb-c351-ace9292e0503"
      },
      "execution_count": 27,
      "outputs": [
        {
          "output_type": "stream",
          "name": "stdout",
          "text": [
            "[         0          0          0          0          0          0\n",
            "          0          0          0          0          0          0\n",
            "          0          0          0          0          0 4294967295\n",
            " 4294967295 4294967295 4294967295 4294967295 4294967295 4294967295\n",
            " 4294967295 4294967295 4294967295 4294967295 4294967295 4294967295\n",
            " 4294967295 4294967295]\n"
          ]
        }
      ]
    },
    {
      "cell_type": "code",
      "source": [
        "temp = np.zeros((32,),dtype='uint32')\n",
        "pp(14,x1,y1,temp)\n",
        "print(np.flip(temp))"
      ],
      "metadata": {
        "colab": {
          "base_uri": "https://localhost:8080/"
        },
        "id": "lUzBtWZ9m3fD",
        "outputId": "49f056b4-ab73-4dae-d12e-59d0b649eabb"
      },
      "execution_count": 28,
      "outputs": [
        {
          "output_type": "stream",
          "name": "stdout",
          "text": [
            "[         0          0 4294967294 4294967295 4294967295 4294967295\n",
            " 4294967295 4294967295 4294967295 4294967295 4294967295 4294967295\n",
            " 4294967295 4294967295 4294967295 4294967295 4294967295          1\n",
            "          0          0          0          0          0          0\n",
            "          0          0          0          0          0          0\n",
            "          0          0]\n"
          ]
        }
      ]
    },
    {
      "cell_type": "code",
      "source": [
        "multiply(x1,y1,z1)\n",
        "print(np.flip(z1))\n",
        "%timeit multiply(x1,y1,z1)"
      ],
      "metadata": {
        "colab": {
          "base_uri": "https://localhost:8080/"
        },
        "id": "8z8Y17l4pXtW",
        "outputId": "d83469d9-951d-43a7-ea64-642cfc20422b"
      },
      "execution_count": 29,
      "outputs": [
        {
          "output_type": "stream",
          "name": "stdout",
          "text": [
            "[         0          0 4294967295 4294967295 4294967295 4294967295\n",
            " 4294967295 4294967295 4294967295 4294967295 4294967295 4294967295\n",
            " 4294967295 4294967295 4294967295 4294967295 4294967294          0\n",
            "          0          0          0          0          0          0\n",
            "          0          0          0          0          0          0\n",
            "          0          1]\n",
            "17.7 µs ± 3.16 µs per loop (mean ± std. dev. of 7 runs, 100000 loops each)\n"
          ]
        }
      ]
    },
    {
      "cell_type": "code",
      "source": [
        "# python's native integer multiplication\n",
        "%timeit c=p*q"
      ],
      "metadata": {
        "colab": {
          "base_uri": "https://localhost:8080/"
        },
        "id": "w7HCLQrbm8eY",
        "outputId": "58da6127-74e2-42f9-ad46-0bed08f67f43"
      },
      "execution_count": 30,
      "outputs": [
        {
          "output_type": "stream",
          "name": "stdout",
          "text": [
            "1.49 µs ± 83.6 ns per loop (mean ± std. dev. of 7 runs, 100000 loops each)\n"
          ]
        }
      ]
    },
    {
      "cell_type": "markdown",
      "source": [
        "## Summay of results\n",
        " - Native python addition of 1024 bit integers takes about 200 ns\n",
        " - Trying to replicate the behaviour with numpy arrays gives us about 130 ns (500x slower than native python). We try to improve on this so that further algorithms can use the optimized implementation, compatible with numba/compyle\n",
        " - Using jitclass, there is a reduction in performance, indicating that it is not as well optimized and has additional overhead\n",
        " - We then try implementations with simple numpy arrays optimized using numba with njit\n",
        " - The final optimizations give the approximate average times (with worst case input combinations) for 1024 bit arithmetic with numpy arrays of uint32 elements as follows\n",
        "\n",
        "| Operation | Native python integer type | Basic numpy (unoptimized) | Numba/compyle compatible (optimized) |\n",
        "| --- | --- | --- | --- |\n",
        "| Addition/subtraction | 203 ns  | 128 us | 709 ns  |\n",
        "| Multiplication       | 1.49 us | -      |17.7 us | \n"
      ],
      "metadata": {
        "id": "f08ZITtrBv-i"
      }
    },
    {
      "cell_type": "code",
      "source": [],
      "metadata": {
        "id": "DwFW7V2moikQ"
      },
      "execution_count": 30,
      "outputs": []
    }
  ]
}
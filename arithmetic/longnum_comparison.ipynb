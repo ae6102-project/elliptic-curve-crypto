{
 "cells": [
  {
   "cell_type": "code",
   "execution_count": 1,
   "metadata": {
    "id": "Tqwc7cVLaGhs"
   },
   "outputs": [],
   "source": [
    "%%capture\n",
    "# ! pip install compyle\n",
    "# ! pip install pyopencl\n",
    "# ! pip install pycuda"
   ]
  },
  {
   "cell_type": "code",
   "execution_count": 2,
   "metadata": {
    "id": "xY-tAfxeDPb_"
   },
   "outputs": [],
   "source": [
    "import numpy as np\n",
    "import numba as nb\n",
    "from numba import uint32, uint64, njit\n",
    "from numba.experimental import jitclass\n",
    "# from compyle.api import annotate,wrap,get_config\n",
    "from time import perf_counter\n",
    "import matplotlib.pyplot as plt\n",
    "\n",
    "maxInt = np.uint32(4294967295)"
   ]
  },
  {
   "cell_type": "markdown",
   "metadata": {
    "id": "QHvJkW-JAX7i"
   },
   "source": [
    "# Arithmetic on large size integers (Numpy Arrays)"
   ]
  },
  {
   "cell_type": "code",
   "execution_count": 3,
   "metadata": {
    "id": "RsFJVR6ZTq_8"
   },
   "outputs": [],
   "source": [
    "def add(x, y, res):\n",
    "    carry = 0\n",
    "    for i in range(32):\n",
    "        res[i] = x[i] + carry\n",
    "        carry = res[i] < x[i]\n",
    "        res[i] = y[i] + res[i]\n",
    "        carry = (res[i] < y[i] or carry)"
   ]
  },
  {
   "cell_type": "code",
   "execution_count": 4,
   "metadata": {
    "id": "EPYZ0kpbap7i"
   },
   "outputs": [],
   "source": [
    "x1 = np.zeros((32,), dtype='uint32')\n",
    "y1 = np.zeros((32,), dtype='uint32')\n",
    "z1 = np.zeros((32,), dtype='uint32')\n",
    "x1[:-1] = maxInt\n",
    "x1[31] = maxInt/2\n",
    "y1[:-1] = maxInt\n",
    "y1[31] = maxInt/2\n",
    "\n",
    "# backend = 'cython'\n",
    "# get_config().use_openmp = True\n",
    "# x1, y1, z1 = wrap(x1, y1, z1, backend=backend)"
   ]
  },
  {
   "cell_type": "code",
   "execution_count": 5,
   "metadata": {
    "colab": {
     "base_uri": "https://localhost:8080/"
    },
    "id": "yxdn9EN-X6V8",
    "outputId": "4da73a61-3c89-44a1-fb14-4ebb296f4821"
   },
   "outputs": [
    {
     "name": "stdout",
     "output_type": "stream",
     "text": [
      "[4294967295 4294967295 4294967295 4294967295 4294967295 4294967295\n",
      " 4294967295 4294967295 4294967295 4294967295 4294967295 4294967295\n",
      " 4294967295 4294967295 4294967295 4294967295 4294967295 4294967295\n",
      " 4294967295 4294967295 4294967295 4294967295 4294967295 4294967295\n",
      " 4294967295 4294967295 4294967295 4294967295 4294967295 4294967295\n",
      " 4294967295 4294967294]\n"
     ]
    },
    {
     "name": "stderr",
     "output_type": "stream",
     "text": [
      "/tmp/ipykernel_10749/505820637.py:6: RuntimeWarning: overflow encountered in uint_scalars\n",
      "  res[i] = y[i] + res[i]\n",
      "/tmp/ipykernel_10749/505820637.py:4: RuntimeWarning: overflow encountered in uint_scalars\n",
      "  res[i] = x[i] + carry\n"
     ]
    }
   ],
   "source": [
    "add(x1, y1, z1)\n",
    "print(np.flip(z1))"
   ]
  },
  {
   "cell_type": "code",
   "execution_count": 6,
   "metadata": {},
   "outputs": [
    {
     "name": "stderr",
     "output_type": "stream",
     "text": [
      "/tmp/ipykernel_10749/505820637.py:6: RuntimeWarning: overflow encountered in uint_scalars\n",
      "  res[i] = y[i] + res[i]\n",
      "/tmp/ipykernel_10749/505820637.py:4: RuntimeWarning: overflow encountered in uint_scalars\n",
      "  res[i] = x[i] + carry\n"
     ]
    },
    {
     "name": "stdout",
     "output_type": "stream",
     "text": [
      "24.6 µs ± 220 ns per loop (mean ± std. dev. of 7 runs, 10,000 loops each)\n"
     ]
    }
   ],
   "source": [
    "%timeit add(x1, y1, z1)"
   ]
  },
  {
   "cell_type": "markdown",
   "metadata": {
    "id": "nYlREMZMBFPx"
   },
   "source": [
    "## Optimations using numba with njit over numpy arrays (with size specified)"
   ]
  },
  {
   "cell_type": "code",
   "execution_count": 7,
   "metadata": {
    "id": "HJfxDFWsc2SK"
   },
   "outputs": [],
   "source": [
    "@njit\n",
    "def add(x, y, res):\n",
    "    carry = 0\n",
    "    for i in range(min(x[32], y[32])):\n",
    "        res[i] = y[i] + x[i] + carry\n",
    "        if res[i] < x[i] or res[i] < y[i]:  # overflow\n",
    "            carry = 1\n",
    "        else:\n",
    "            carry = 0\n",
    "\n",
    "    if x[32] > y[32]:\n",
    "        for i in range(y[32], x[32]):\n",
    "            res[i] = x[i] + carry\n",
    "            carry = 1 if res[i] == 0 else 0\n",
    "        res[x[32]] = carry\n",
    "        res[32] = x[32] + carry\n",
    "    else:\n",
    "        for i in range(x[32], y[32]):\n",
    "            res[i] = y[i] + carry\n",
    "            carry = 1 if res[i] == 0 else 0\n",
    "        res[y[32]] = carry\n",
    "        res[32] = y[32] + carry\n",
    "\n",
    "    for i in range(max(x[32], y[32]) + carry, 32):\n",
    "        res[i] = 0"
   ]
  },
  {
   "cell_type": "code",
   "execution_count": 8,
   "metadata": {
    "colab": {
     "base_uri": "https://localhost:8080/"
    },
    "id": "h0WIOfnoQa0c",
    "outputId": "bd7cec48-e897-4121-df0c-95cad36322d8"
   },
   "outputs": [
    {
     "name": "stdout",
     "output_type": "stream",
     "text": [
      "[        32 2147483647 4294967295 4294967295 4294967295 4294967295\n",
      " 4294967295 4294967295 4294967295 4294967295 4294967295 4294967295\n",
      " 4294967295 4294967295 4294967295 4294967295 4294967295 4294967295\n",
      " 4294967295 4294967295 4294967295 4294967295 4294967295 4294967295\n",
      " 4294967295 4294967295 4294967295 4294967295 4294967295 4294967295\n",
      " 4294967295 4294967295 4294967295]\n"
     ]
    }
   ],
   "source": [
    "x1 = np.zeros((33,), dtype='uint32')\n",
    "y1 = np.zeros((33,), dtype='uint32')\n",
    "z1 = np.zeros((33,), dtype='uint32')\n",
    "x1[:-2] = maxInt\n",
    "x1[31] = maxInt / 2\n",
    "x1[32] = 32\n",
    "y1[:-2] = maxInt\n",
    "y1[31] = maxInt / 2\n",
    "y1[32] = 32\n",
    "print(np.flip(x1))"
   ]
  },
  {
   "cell_type": "code",
   "execution_count": 9,
   "metadata": {
    "colab": {
     "base_uri": "https://localhost:8080/"
    },
    "id": "jhjaJhxpQ0ZW",
    "outputId": "b3da811c-4f32-4c70-906f-0690f64edc2a"
   },
   "outputs": [
    {
     "name": "stdout",
     "output_type": "stream",
     "text": [
      "[        32 4294967295 4294967294 4294967295 4294967294 4294967295\n",
      " 4294967294 4294967295 4294967294 4294967295 4294967294 4294967295\n",
      " 4294967294 4294967295 4294967294 4294967295 4294967294 4294967295\n",
      " 4294967294 4294967295 4294967294 4294967295 4294967294 4294967295\n",
      " 4294967294 4294967295 4294967294 4294967295 4294967294 4294967295\n",
      " 4294967294 4294967295 4294967294]\n"
     ]
    }
   ],
   "source": [
    "add(x1, y1, z1)\n",
    "print(np.flip(z1))"
   ]
  },
  {
   "cell_type": "markdown",
   "metadata": {
    "id": "C-yl5HHMBkNt"
   },
   "source": [
    "## Optimations using numba with njit over numpy arrays (simplified conditionals)"
   ]
  },
  {
   "cell_type": "code",
   "execution_count": 10,
   "metadata": {},
   "outputs": [],
   "source": [
    "# Helper Functions\n",
    "\n",
    "def int2numpy(pyint):\n",
    "    lim = int(2**32)\n",
    "    arr = np.zeros((32,), dtype='uint32')\n",
    "    rem = pyint\n",
    "    index = 0\n",
    "    while rem > 0:\n",
    "        x = divmod(rem, lim)\n",
    "        rem = x[0]\n",
    "        arr[index] = x[1]\n",
    "        index += 1\n",
    "    return arr\n",
    "\n",
    "def numpy2int(arr):\n",
    "    temp = np.flip(arr)\n",
    "    pyint = int(0)\n",
    "    for i in range(31):\n",
    "        pyint = (pyint + int(temp[i])) * int(2**32)\n",
    "    return pyint+int(temp[31])"
   ]
  },
  {
   "cell_type": "code",
   "execution_count": 11,
   "metadata": {
    "id": "6utZyuepbxEO"
   },
   "outputs": [],
   "source": [
    "@njit\n",
    "def add(x, y, res):\n",
    "    carry = 0\n",
    "    for i in range(32):\n",
    "        res[i] = x[i] + carry\n",
    "        carry = (res[i] < x[i])\n",
    "        res[i] = y[i] + res[i]\n",
    "        carry = (res[i] < y[i] or carry)"
   ]
  },
  {
   "cell_type": "code",
   "execution_count": 12,
   "metadata": {
    "colab": {
     "base_uri": "https://localhost:8080/"
    },
    "id": "DXoaMW1f3ePi",
    "outputId": "d927dae1-777d-4897-f5d4-c31eca449a31"
   },
   "outputs": [
    {
     "name": "stdout",
     "output_type": "stream",
     "text": [
      "[2147483647 4294967295 4294967295 4294967295 4294967295 4294967295\n",
      " 4294967295 4294967295 4294967295 4294967295 4294967295 4294967295\n",
      " 4294967295 4294967295 4294967295 4294967295 4294967295 4294967295\n",
      " 4294967295 4294967295 4294967295 4294967295 4294967295 4294967295\n",
      " 4294967295 4294967295 4294967295 4294967295 4294967295 4294967295\n",
      " 4294967295 4294967295]\n"
     ]
    }
   ],
   "source": [
    "x1 = np.zeros((32,), dtype='uint32')\n",
    "y1 = np.zeros((32,), dtype='uint32')\n",
    "z1 = np.zeros((32,), dtype='uint32')\n",
    "x1[:-1] = maxInt\n",
    "x1[31] = maxInt/2\n",
    "y1[:-1] = maxInt\n",
    "y1[31] = maxInt/2\n",
    "print(np.flip(x1))"
   ]
  },
  {
   "cell_type": "code",
   "execution_count": 13,
   "metadata": {
    "colab": {
     "base_uri": "https://localhost:8080/"
    },
    "id": "U_tWJMZbbytA",
    "outputId": "3ae33f3a-fb37-478a-c147-3316a3da3477"
   },
   "outputs": [
    {
     "name": "stdout",
     "output_type": "stream",
     "text": [
      "[4294967295 4294967295 4294967295 4294967295 4294967295 4294967295\n",
      " 4294967295 4294967295 4294967295 4294967295 4294967295 4294967295\n",
      " 4294967295 4294967295 4294967295 4294967295 4294967295 4294967295\n",
      " 4294967295 4294967295 4294967295 4294967295 4294967295 4294967295\n",
      " 4294967295 4294967295 4294967295 4294967295 4294967295 4294967295\n",
      " 4294967295 4294967294]\n"
     ]
    }
   ],
   "source": [
    "add(x1, y1, z1)\n",
    "print(np.flip(z1))"
   ]
  },
  {
   "cell_type": "code",
   "execution_count": 14,
   "metadata": {
    "id": "RFD6wbLsYH0_"
   },
   "outputs": [],
   "source": [
    "@njit\n",
    "def subtract(x, y, res=np.zeros((32,), dtype='uint32')):\n",
    "    borrow = 0\n",
    "    for i in range(32):\n",
    "        if (borrow == 0 or x[i] > 0) and x[i] - borrow >= y[i]:\n",
    "            res[i] = (x[i] - borrow) - y[i]\n",
    "            borrow = 0\n",
    "        else:\n",
    "            res[i] = x[i] + (maxInt - y[i]) + (1 - borrow)\n",
    "            borrow = 1\n",
    "    return borrow"
   ]
  },
  {
   "cell_type": "code",
   "execution_count": 15,
   "metadata": {
    "id": "E5rext9e7_jS"
   },
   "outputs": [],
   "source": [
    "y1[:] = maxInt"
   ]
  },
  {
   "cell_type": "code",
   "execution_count": 16,
   "metadata": {
    "colab": {
     "base_uri": "https://localhost:8080/"
    },
    "id": "ddPZDjAtct_P",
    "outputId": "124ba94b-da8d-4d3d-9d51-a83b7dff4394"
   },
   "outputs": [
    {
     "name": "stdout",
     "output_type": "stream",
     "text": [
      "1 [2147483648          0          0          0          0          0\n",
      "          0          0          0          0          0          0\n",
      "          0          0          0          0          0          0\n",
      "          0          0          0          0          0          0\n",
      "          0          0          0          0          0          0\n",
      "          0          0]\n"
     ]
    }
   ],
   "source": [
    "borrow = subtract(x1, y1, z1)\n",
    "print(borrow, np.flip(z1))"
   ]
  },
  {
   "cell_type": "code",
   "execution_count": 17,
   "metadata": {
    "id": "QhFXiPB1lb2H"
   },
   "outputs": [],
   "source": [
    "# partial products\n",
    "@njit\n",
    "def pp(i, x, y, p):\n",
    "    temp = np.zeros((1,), 'uint64')\n",
    "    c = np.zeros((1,), 'uint32')\n",
    "    for j in range(32-i):\n",
    "        temp[0] = x[i]*y[j]\n",
    "        p[i+j] = c[0]+temp[0]\n",
    "        c[0] = temp[0] >> 32"
   ]
  },
  {
   "cell_type": "code",
   "execution_count": 18,
   "metadata": {
    "id": "XBxt34HM5B7d"
   },
   "outputs": [],
   "source": [
    "# multiply (uses pp and add)\n",
    "@njit\n",
    "def multiply(x, y, res):\n",
    "    temp = np.zeros((32,), 'uint32')\n",
    "    for i in range(31):\n",
    "        p = np.zeros((32,), 'uint32')\n",
    "        pp(i, x, y, p)\n",
    "        add(temp, p, res)\n",
    "        temp = res.copy()"
   ]
  },
  {
   "cell_type": "code",
   "execution_count": 19,
   "metadata": {},
   "outputs": [
    {
     "name": "stdout",
     "output_type": "stream",
     "text": [
      "[2147483647 4294967295 4294967295 4294967295 4294967295 4294967295\n",
      " 4294967295 4294967295 4294967295 4294967295 4294967295 4294967295\n",
      " 4294967295 4294967295 4294967295 4294967295 4294967295 4294967295\n",
      " 4294967295 4294967295 4294967295 4294967295 4294967295 4294967295\n",
      " 4294967295 4294967295 4294967295 4294967295 4294967295 4294967295\n",
      " 4294967295 4294967295]\n"
     ]
    }
   ],
   "source": [
    "x1[0:15] = maxInt\n",
    "y1[0:15] = maxInt\n",
    "print(np.flip(x1))"
   ]
  },
  {
   "cell_type": "code",
   "execution_count": 20,
   "metadata": {},
   "outputs": [
    {
     "name": "stdout",
     "output_type": "stream",
     "text": [
      "[4294967295 4294967295 4294967295 4294967295 4294967295 4294967295\n",
      " 4294967295 4294967295 4294967295 4294967295 4294967295 4294967295\n",
      " 4294967295 4294967295 4294967295 4294967295 4294967295          1\n",
      "          0          0          0          0          0          0\n",
      "          0          0          0          0          0          0\n",
      "          0          0]\n"
     ]
    }
   ],
   "source": [
    "temp = np.zeros((32,), dtype='uint32')\n",
    "pp(14, x1, y1, temp)\n",
    "print(np.flip(temp))"
   ]
  },
  {
   "cell_type": "code",
   "execution_count": 21,
   "metadata": {
    "colab": {
     "base_uri": "https://localhost:8080/"
    },
    "id": "lUzBtWZ9m3fD",
    "outputId": "49f056b4-ab73-4dae-d12e-59d0b649eabb"
   },
   "outputs": [
    {
     "name": "stdout",
     "output_type": "stream",
     "text": [
      "[4294967295          0          0          0          0          0\n",
      "          0          0          0          0          0          0\n",
      "          0          0          0          0          0          0\n",
      "          0          0          0          0          0          0\n",
      "          0          0          0          0          0          0\n",
      "          0          1]\n"
     ]
    }
   ],
   "source": [
    "multiply(x1, y1, z1)\n",
    "print(np.flip(z1))"
   ]
  },
  {
   "cell_type": "code",
   "execution_count": 22,
   "metadata": {},
   "outputs": [],
   "source": [
    "@njit\n",
    "def divmod_single_word(x, y):\n",
    "    scale = 1\n",
    "    while y * scale <= x:\n",
    "        scale <<= 1\n",
    "\n",
    "    quotient = 0\n",
    "    remainder = x\n",
    "    \n",
    "    while scale > 0:\n",
    "        q = remainder // (y * scale)\n",
    "        quotient += q * scale\n",
    "        remainder -= q * y * scale\n",
    "        scale >>= 1\n",
    "        \n",
    "    return quotient, remainder"
   ]
  },
  {
   "cell_type": "code",
   "execution_count": 23,
   "metadata": {},
   "outputs": [],
   "source": [
    "@njit\n",
    "def ndivmod(x,y,q,r):\n",
    "    rpass = np.zeros_like(x)\n",
    "    qpass = np.zeros_like(x)\n",
    "    temp = np.zeros_like(x)\n",
    "    zero = np.zeros_like(x)\n",
    "\n",
    "    i = len(x)-1\n",
    "    j = len(y)-1\n",
    "    while True:\n",
    "        if x[i]!=0 or i==0:\n",
    "            break\n",
    "        i -= 1\n",
    "    while True:\n",
    "        if y[j]!=0 or j==0:\n",
    "            break\n",
    "        j -= 1\n",
    "\n",
    "    borrow = subtract(x, y, rpass) # Takes care of x smaller than y\n",
    "    add(zero,x,r)\n",
    "    add(zero,zero,q)\n",
    "\n",
    "    while borrow == 0:\n",
    "        while True:\n",
    "            if r[i]!=0 or i==0:\n",
    "                break\n",
    "            i -= 1\n",
    "    \n",
    "        if i == j:\n",
    "            qpass[0] = r[i]//y[j]\n",
    "            multiply(y, qpass, temp)\n",
    "            borrow = subtract(r, temp, rpass)\n",
    "\n",
    "        elif i > j:\n",
    "            qpass[i-j] = 1\n",
    "            qpass[0] = r[i]//y[j]\n",
    "            multiply(qpass, y, temp)\n",
    "            borrow = subtract(r, temp, rpass)\n",
    "            if borrow == 1:\n",
    "                id = 32\n",
    "                qpass[i-j] = 0\n",
    "            while borrow == 1 and id>0:\n",
    "                id -= 1\n",
    "                qpass[i-j-1] = 1<<id\n",
    "                multiply(qpass, y, temp)\n",
    "                borrow = subtract(r, temp, rpass)\n",
    "\n",
    "        add(zero,q,temp)\n",
    "        add(temp,qpass,q)\n",
    "        add(zero,rpass,r)\n",
    "        add(zero,zero,qpass)\n",
    "\n",
    "        borrow = subtract(r, y, rpass)\n",
    "\n",
    "    return"
   ]
  },
  {
   "cell_type": "code",
   "execution_count": 24,
   "metadata": {},
   "outputs": [
    {
     "name": "stdout",
     "output_type": "stream",
     "text": [
      "(1814379016230978282656, 24190308200534009483495275435379895)\n",
      "(1814379016230978282656, 24190308200534009483495275435379895)\n"
     ]
    }
   ],
   "source": [
    "x1 = np.zeros((32,), dtype='uint32')\n",
    "y1 = np.zeros((32,), dtype='uint32')\n",
    "q = np.zeros((32,), dtype='uint32')\n",
    "r = np.zeros((32,), dtype='uint32')\n",
    "\n",
    "a = (77818729899876987989787979889573673298769879424242323799)\n",
    "b = (42890007657567798765765757787275009)\n",
    "x1 = int2numpy(a)\n",
    "y1 = int2numpy(b)\n",
    "\n",
    "\n",
    "ndivmod(x1, y1, q, r)\n",
    "print((numpy2int(q),numpy2int(r)))\n",
    "print(divmod(a,b))"
   ]
  },
  {
   "cell_type": "markdown",
   "metadata": {
    "id": "HQfz5CYfBWuj"
   },
   "source": [
    "## Optimations using numba with njit over numpy arrays (64-bit)"
   ]
  },
  {
   "cell_type": "code",
   "execution_count": 25,
   "metadata": {
    "id": "3CHV5Ds8d6Ci"
   },
   "outputs": [],
   "source": [
    "@njit\n",
    "def add64(x, y, res):\n",
    "    carry = 0\n",
    "    for i in range(16):\n",
    "        res[i] = x[i] + carry\n",
    "        carry = (res[i] < x[i])\n",
    "        res[i] = y[i] + res[i]\n",
    "        carry = (res[i] < y[i] or carry)"
   ]
  },
  {
   "cell_type": "code",
   "execution_count": 26,
   "metadata": {
    "colab": {
     "base_uri": "https://localhost:8080/"
    },
    "id": "pj8IhCX2d6CX",
    "outputId": "7b68c42a-1f45-43f2-c768-849e3858a93d"
   },
   "outputs": [
    {
     "name": "stdout",
     "output_type": "stream",
     "text": [
      "[4294967295 8589934591 8589934591 8589934591 8589934591 8589934591\n",
      " 8589934591 8589934591 8589934591 8589934591 8589934591 8589934591\n",
      " 8589934591 8589934591 8589934591 8589934591]\n"
     ]
    }
   ],
   "source": [
    "x2 = np.zeros((16,), dtype='uint64')\n",
    "y2 = np.zeros((16,), dtype='uint64')\n",
    "z2 = np.zeros((16,), dtype='uint64')\n",
    "x2[:-1] = maxInt*2+1\n",
    "x2[15] = maxInt\n",
    "y2[:-1] = maxInt*2+1\n",
    "y2[15] = maxInt\n",
    "print(np.flip(x2))"
   ]
  },
  {
   "cell_type": "code",
   "execution_count": 27,
   "metadata": {
    "colab": {
     "base_uri": "https://localhost:8080/"
    },
    "id": "69Hhvzwid6Ci",
    "outputId": "0af75afb-ad69-4d9b-f6f0-aee87e086767"
   },
   "outputs": [
    {
     "name": "stdout",
     "output_type": "stream",
     "text": [
      "[ 8589934590 17179869182 17179869182 17179869182 17179869182 17179869182\n",
      " 17179869182 17179869182 17179869182 17179869182 17179869182 17179869182\n",
      " 17179869182 17179869182 17179869182 17179869182]\n"
     ]
    }
   ],
   "source": [
    "add64(x2, y2, z2)\n",
    "print(np.flip(z2))"
   ]
  },
  {
   "cell_type": "markdown",
   "metadata": {
    "id": "dYuPXo01A3d0"
   },
   "source": [
    "# Big Int Arithmetic (Numba with jitclass)"
   ]
  },
  {
   "cell_type": "code",
   "execution_count": 28,
   "metadata": {
    "id": "CPEWSJ2FFQm0"
   },
   "outputs": [],
   "source": [
    "@jitclass([\n",
    "    ('arrSize', uint32),           # a simple scalar field\n",
    "    ('array', uint32[:]),          # an array field\n",
    "])\n",
    "class BigInt:\n",
    "    def __init__(self):\n",
    "        self.arrSize = 0\n",
    "        self.array = np.zeros(32, dtype=np.uint32)\n",
    "\n",
    "    def storeArr(self, arr):\n",
    "        self.arrSize = arr.shape[0]\n",
    "        for i in range(self.arrSize):\n",
    "            self.array[i] = arr[i]\n",
    "\n",
    "    def add(x, y, res):\n",
    "        carry = 0\n",
    "        for i in range(min(x.arrSize, y.arrSize)):\n",
    "            res.array[i] = y.array[i]+x.array[i]+carry\n",
    "            if res.array[i] < x.array[i] or res.array[i] < y.array[i]:  # overflow\n",
    "                carry = 1\n",
    "            else:\n",
    "                carry = 0\n",
    "\n",
    "        if x.arrSize > y.arrSize:\n",
    "            for i in range(y.arrSize, x.arrSize):\n",
    "                res.array[i] = x.array[i] + carry\n",
    "                carry = 1 if res.array[i] == 0 else 0\n",
    "            res.array[x.arrSize-1] = carry\n",
    "            res.arrSize = x.arrSize + carry\n",
    "        else:\n",
    "            for i in range(x.arrSize, y.arrSize):\n",
    "                res.array[i] = y.array[i] + carry\n",
    "                carry = 1 if res.array[i] == 0 else 0\n",
    "            res.array[y.arrSize-1] = carry\n",
    "            res.arrSize = y.arrSize + carry\n",
    "\n",
    "        for i in range(max(x.arrSize, y.arrSize)+carry, 32):\n",
    "            res.array[i] = 0\n",
    "\n",
    "    def subtract(x, y, res):\n",
    "        borrow = 0\n",
    "        sz = x.arrSize if x.arrSize >= y.arrSize else 32\n",
    "        for i in range(sz):\n",
    "            if (borrow == 0 or x.array[i] > 0) and x.array[i]-borrow >= y.array[i]:\n",
    "                res.array[i] = (x.array[i]-borrow)-y.array[i]\n",
    "                borrow = 0\n",
    "            else:\n",
    "                res.array[i] = x.array[i]+(maxInt-y.array[i])+(1-borrow)\n",
    "                borrow = 1\n",
    "\n",
    "        for i in range(sz, 32):\n",
    "            res.array[i] = maxInt*borrow\n",
    "\n",
    "        return borrow\n",
    "    \n",
    "    #TO-DO\n",
    "    def multiply(x, y, res):\n",
    "        pass\n",
    "    \n",
    "    def div_mod(dividend, divisor, remainer, quotient):\n",
    "        pass"
   ]
  },
  {
   "cell_type": "code",
   "execution_count": 29,
   "metadata": {},
   "outputs": [],
   "source": [
    "a = BigInt()\n",
    "b = BigInt()\n",
    "a1 = np.zeros((32,), dtype='uint32')\n",
    "b1 = np.zeros((32,), dtype='uint32')"
   ]
  },
  {
   "cell_type": "code",
   "execution_count": 30,
   "metadata": {},
   "outputs": [],
   "source": [
    "a1[:] = maxInt\n",
    "b1[:] = maxInt/2\n",
    "a.storeArr(a1)\n",
    "b.storeArr(b1)"
   ]
  },
  {
   "cell_type": "code",
   "execution_count": 31,
   "metadata": {
    "id": "YbSssSsSOe0X"
   },
   "outputs": [],
   "source": [
    "a = BigInt()\n",
    "b = BigInt()\n",
    "c = BigInt()\n",
    "a1 = np.zeros((32,), dtype='uint32')\n",
    "b1 = np.zeros((32,), dtype='uint32')\n",
    "a1[0:-1] = maxInt\n",
    "a1[31] = maxInt/2\n",
    "b1[0:-1] = maxInt\n",
    "b1[31] = maxInt/2\n",
    "a.storeArr(a1)\n",
    "b.storeArr(b1)"
   ]
  },
  {
   "cell_type": "code",
   "execution_count": 32,
   "metadata": {
    "colab": {
     "base_uri": "https://localhost:8080/"
    },
    "id": "82OhnYWbRp-B",
    "outputId": "6f611182-dd37-48db-d9dc-9882a469526c"
   },
   "outputs": [
    {
     "name": "stderr",
     "output_type": "stream",
     "text": [
      "/tmp/ipykernel_10749/1819884403.py:18: RuntimeWarning: overflow encountered in uint_scalars\n",
      "  res.array[i] = y.array[i]+x.array[i]+carry\n",
      "/tmp/ipykernel_10749/1819884403.py:18: RuntimeWarning: overflow encountered in uint_scalars\n",
      "  res.array[i] = y.array[i]+x.array[i]+carry\n"
     ]
    },
    {
     "name": "stdout",
     "output_type": "stream",
     "text": [
      "110 µs ± 2.41 µs per loop (mean ± std. dev. of 7 runs, 10,000 loops each)\n",
      "[         0 4294967294 4294967295 4294967294 4294967295 4294967294\n",
      " 4294967295 4294967294 4294967295 4294967294 4294967295 4294967294\n",
      " 4294967295 4294967294 4294967295 4294967294 4294967295 4294967294\n",
      " 4294967295 4294967294 4294967295 4294967294 4294967295 4294967294\n",
      " 4294967295 4294967294 4294967295 4294967294 4294967295 4294967294\n",
      " 4294967295 4294967294]\n"
     ]
    }
   ],
   "source": [
    "BigInt.add(a, b, c)\n",
    "%timeit BigInt.add(a, b, c)\n",
    "print(np.flip(c.array))"
   ]
  },
  {
   "cell_type": "code",
   "execution_count": 33,
   "metadata": {
    "id": "w4nkprhe9mYh"
   },
   "outputs": [],
   "source": [
    "a1[:] = 0\n",
    "b1[:] = maxInt\n",
    "a.storeArr(a1)\n",
    "b.storeArr(b1)"
   ]
  },
  {
   "cell_type": "code",
   "execution_count": 34,
   "metadata": {
    "colab": {
     "base_uri": "https://localhost:8080/"
    },
    "id": "0lqy1FffS8fm",
    "outputId": "e856159e-1ee0-42bc-d212-2fb5b2242c20"
   },
   "outputs": [
    {
     "name": "stdout",
     "output_type": "stream",
     "text": [
      "113 µs ± 1.82 µs per loop (mean ± std. dev. of 7 runs, 10,000 loops each)\n",
      "0 [4294967295 4294967295 4294967295 4294967295 4294967295 4294967295\n",
      " 4294967295 4294967295 4294967295 4294967295 4294967295 4294967295\n",
      " 4294967295 4294967295 4294967295 4294967295 4294967295 4294967295\n",
      " 4294967295 4294967295 4294967295 4294967295 4294967295 4294967295\n",
      " 4294967295 4294967295 4294967295 4294967295 4294967295 4294967295\n",
      " 4294967295 4294967295]\n"
     ]
    }
   ],
   "source": [
    "borrow = BigInt.subtract(b, a, c)\n",
    "%timeit BigInt.subtract(b, a, c)\n",
    "print(borrow, np.flip(c.array))"
   ]
  },
  {
   "cell_type": "markdown",
   "metadata": {},
   "source": [
    "# Benchmarking"
   ]
  },
  {
   "cell_type": "code",
   "execution_count": 35,
   "metadata": {},
   "outputs": [],
   "source": [
    "x1 = np.zeros((32,), dtype='uint32')\n",
    "y1 = np.zeros((32,), dtype='uint32')\n",
    "z1 = np.zeros((32,), dtype='uint32')"
   ]
  },
  {
   "cell_type": "code",
   "execution_count": 36,
   "metadata": {},
   "outputs": [],
   "source": [
    "x1[:-1] = maxInt\n",
    "x1[31] = maxInt/2\n",
    "y1[:-1] = maxInt\n",
    "y1[31] = maxInt/2"
   ]
  },
  {
   "cell_type": "code",
   "execution_count": 37,
   "metadata": {},
   "outputs": [
    {
     "name": "stdout",
     "output_type": "stream",
     "text": [
      "253 ns ± 3.13 ns per loop (mean ± std. dev. of 7 runs, 1,000,000 loops each)\n"
     ]
    }
   ],
   "source": [
    "%timeit add(x1, y1, z1)"
   ]
  },
  {
   "cell_type": "code",
   "execution_count": 38,
   "metadata": {},
   "outputs": [],
   "source": [
    "y1[:] = maxInt"
   ]
  },
  {
   "cell_type": "code",
   "execution_count": 39,
   "metadata": {},
   "outputs": [
    {
     "name": "stdout",
     "output_type": "stream",
     "text": [
      "250 ns ± 3.67 ns per loop (mean ± std. dev. of 7 runs, 1,000,000 loops each)\n"
     ]
    }
   ],
   "source": [
    "%timeit borrow = subtract(x1, y1, z1)"
   ]
  },
  {
   "cell_type": "code",
   "execution_count": 40,
   "metadata": {},
   "outputs": [],
   "source": [
    "x2 = np.zeros((16,), dtype='uint64')\n",
    "y2 = np.zeros((16,), dtype='uint64')\n",
    "z2 = np.zeros((16,), dtype='uint64')\n",
    "x2[:-1] = maxInt*2+1\n",
    "x2[15] = maxInt\n",
    "y2[:-1] = maxInt*2+1\n",
    "y2[15] = maxInt"
   ]
  },
  {
   "cell_type": "code",
   "execution_count": 41,
   "metadata": {},
   "outputs": [
    {
     "name": "stdout",
     "output_type": "stream",
     "text": [
      "244 ns ± 2.44 ns per loop (mean ± std. dev. of 7 runs, 1,000,000 loops each)\n"
     ]
    }
   ],
   "source": [
    "%timeit add64(x2,y2,z2)"
   ]
  },
  {
   "cell_type": "code",
   "execution_count": 42,
   "metadata": {
    "colab": {
     "base_uri": "https://localhost:8080/"
    },
    "id": "UNHn2rpQmgY_",
    "outputId": "d1963ed7-e219-49eb-c351-ace9292e0503"
   },
   "outputs": [
    {
     "name": "stdout",
     "output_type": "stream",
     "text": [
      "[2147483647 4294967295 4294967295 4294967295 4294967295 4294967295\n",
      " 4294967295 4294967295 4294967295 4294967295 4294967295 4294967295\n",
      " 4294967295 4294967295 4294967295 4294967295 4294967295 4294967295\n",
      " 4294967295 4294967295 4294967295 4294967295 4294967295 4294967295\n",
      " 4294967295 4294967295 4294967295 4294967295 4294967295 4294967295\n",
      " 4294967295 4294967295]\n"
     ]
    }
   ],
   "source": [
    "x1[0:15] = maxInt\n",
    "y1[0:15] = maxInt\n",
    "print(np.flip(x1))"
   ]
  },
  {
   "cell_type": "code",
   "execution_count": 43,
   "metadata": {
    "colab": {
     "base_uri": "https://localhost:8080/"
    },
    "id": "8z8Y17l4pXtW",
    "outputId": "d83469d9-951d-43a7-ea64-642cfc20422b"
   },
   "outputs": [
    {
     "name": "stdout",
     "output_type": "stream",
     "text": [
      "7.26 µs ± 73.7 ns per loop (mean ± std. dev. of 7 runs, 100,000 loops each)\n"
     ]
    }
   ],
   "source": [
    "%timeit multiply(x1, y1, z1)"
   ]
  },
  {
   "cell_type": "code",
   "execution_count": 44,
   "metadata": {},
   "outputs": [],
   "source": [
    "q = np.zeros((32,), dtype='uint32')\n",
    "r = np.zeros((32,), dtype='uint32')\n",
    "\n",
    "a = (77818729899876987989787979889573673298769879424242323799)\n",
    "b = (42890007657567798765765757787275009)\n",
    "x1 = int2numpy(a)\n",
    "y1 = int2numpy(b)"
   ]
  },
  {
   "cell_type": "code",
   "execution_count": 45,
   "metadata": {},
   "outputs": [
    {
     "name": "stdout",
     "output_type": "stream",
     "text": [
      "15.2 ms ± 1.36 ms per loop (mean ± std. dev. of 7 runs, 100 loops each)\n",
      "136 ns ± 6.71 ns per loop (mean ± std. dev. of 7 runs, 10,000,000 loops each)\n"
     ]
    }
   ],
   "source": [
    "%timeit ndivmod(x1, y1, q, r)\n",
    "%timeit divmod(a,b)"
   ]
  },
  {
   "cell_type": "code",
   "execution_count": 46,
   "metadata": {},
   "outputs": [],
   "source": [
    "p = 0\n",
    "q = 0\n",
    "for i in range(1024):\n",
    "    p = p+(2**i)\n",
    "    q = q+(2**i)\n",
    "    c = p+q"
   ]
  },
  {
   "cell_type": "code",
   "execution_count": 47,
   "metadata": {},
   "outputs": [
    {
     "name": "stdout",
     "output_type": "stream",
     "text": [
      "54.1 ns ± 1.85 ns per loop (mean ± std. dev. of 7 runs, 10,000,000 loops each)\n"
     ]
    }
   ],
   "source": [
    "# python's native integer addition\n",
    "%timeit c = p+q"
   ]
  },
  {
   "cell_type": "code",
   "execution_count": 48,
   "metadata": {
    "colab": {
     "base_uri": "https://localhost:8080/"
    },
    "id": "w7HCLQrbm8eY",
    "outputId": "58da6127-74e2-42f9-ad46-0bed08f67f43"
   },
   "outputs": [
    {
     "name": "stdout",
     "output_type": "stream",
     "text": [
      "906 ns ± 37.3 ns per loop (mean ± std. dev. of 7 runs, 1,000,000 loops each)\n"
     ]
    }
   ],
   "source": [
    "# python's native integer multiplication\n",
    "%timeit c = p*q"
   ]
  },
  {
   "cell_type": "markdown",
   "metadata": {
    "id": "f08ZITtrBv-i"
   },
   "source": [
    "## Summay of results\n",
    " - Native python addition of 1024 bit integers takes about 50 ns\n",
    " - Trying to replicate the behaviour with numpy arrays gives us about 30 µs (600x slower than native python). We try to improve on this so that further algorithms can use the optimized implementation, compatible with numba/compyle\n",
    " - Using jitclass, there is a reduction in performance, indicating that it is not as well optimized and has additional overhead\n",
    " - We then try implementations with simple numpy arrays optimized using numba with njit with 5x and 10x slower than native python\n",
    " - The divmod operation is disastrous \n",
    " - The final optimizations give the approximate average times (with worst case input combinations) for 1024 bit arithmetic with numpy arrays of uint32 elements as follows\n",
    "\n",
    "| Operation | Native python Int | Basic numpy (unoptimized) | BigInt (jitclass) | Longnum (optimized) |\n",
    "| --- | --- | --- | --- | --- |\n",
    "| Add/subtract | 54.1 ns  | 24.6 µs | 113 µs | 253 ns  |\n",
    "| Multiplication       | 906 ns | - | - | 7.26 µs | \n",
    "| Divmod            | 136 ns | - | - | 15.2 ms |\n"
   ]
  }
 ],
 "metadata": {
  "colab": {
   "provenance": []
  },
  "kernelspec": {
   "display_name": "Python [conda env:sci-comp]",
   "language": "python",
   "name": "conda-env-sci-comp-py"
  },
  "language_info": {
   "codemirror_mode": {
    "name": "ipython",
    "version": 3
   },
   "file_extension": ".py",
   "mimetype": "text/x-python",
   "name": "python",
   "nbconvert_exporter": "python",
   "pygments_lexer": "ipython3",
   "version": "3.8.10"
  },
  "toc": {
   "base_numbering": 1,
   "nav_menu": {},
   "number_sections": true,
   "sideBar": true,
   "skip_h1_title": false,
   "title_cell": "Table of Contents",
   "title_sidebar": "Contents",
   "toc_cell": false,
   "toc_position": {
    "height": "calc(100% - 180px)",
    "left": "10px",
    "top": "150px",
    "width": "343px"
   },
   "toc_section_display": true,
   "toc_window_display": true
  }
 },
 "nbformat": 4,
 "nbformat_minor": 1
}

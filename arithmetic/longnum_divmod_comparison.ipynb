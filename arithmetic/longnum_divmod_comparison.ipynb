{
  "cells": [
    {
      "cell_type": "code",
      "execution_count": 1,
      "metadata": {
        "id": "xY-tAfxeDPb_"
      },
      "outputs": [],
      "source": [
        "import numpy as np\n",
        "import numba as nb\n",
        "from numba import uint32, uint64, njit\n",
        "# import scalene\n",
        "\n",
        "maxInt = np.uint32(4294967295)"
      ]
    },
    {
      "cell_type": "code",
      "source": [
        "def int2numpy(pyint):\n",
        "    lim = int(2**32)\n",
        "    arr = np.zeros((32,), dtype='uint32')\n",
        "    rem = pyint\n",
        "    index = 0\n",
        "    while rem > 0:\n",
        "        x = divmod(rem, lim)\n",
        "        rem = x[0]\n",
        "        arr[index] = x[1]\n",
        "        index += 1\n",
        "    return arr"
      ],
      "metadata": {
        "id": "x-Myo8pKO5n8"
      },
      "execution_count": 2,
      "outputs": []
    },
    {
      "cell_type": "code",
      "source": [
        "def numpy2int(arr):\n",
        "    temp = np.flip(arr)\n",
        "    pyint = int(0)\n",
        "    for i in range(31):\n",
        "        pyint = (pyint + int(temp[i])) * int(2**32)\n",
        "    return pyint+int(temp[31])"
      ],
      "metadata": {
        "id": "NVn3AQlaPqi8"
      },
      "execution_count": 3,
      "outputs": []
    },
    {
      "cell_type": "code",
      "execution_count": 4,
      "metadata": {
        "id": "6utZyuepbxEO"
      },
      "outputs": [],
      "source": [
        "@njit\n",
        "def add(x, y, res):\n",
        "    carry = 0\n",
        "    for i in range(32):\n",
        "        res[i] = x[i] + carry\n",
        "        carry = (res[i] < x[i])\n",
        "        res[i] = y[i] + res[i]\n",
        "        carry = (res[i] < y[i] or carry)"
      ]
    },
    {
      "cell_type": "code",
      "execution_count": 5,
      "metadata": {
        "id": "RFD6wbLsYH0_"
      },
      "outputs": [],
      "source": [
        "@njit\n",
        "def subtract(x, y, res=np.zeros((32,), dtype='uint32')):\n",
        "    borrow = 0\n",
        "    for i in range(32):\n",
        "        if (borrow == 0 or x[i] > 0) and x[i] - borrow >= y[i]:\n",
        "            res[i] = (x[i] - borrow) - y[i]\n",
        "            borrow = 0\n",
        "        else:\n",
        "            res[i] = x[i] + (maxInt - y[i]) + (1 - borrow)\n",
        "            borrow = 1\n",
        "    return borrow"
      ]
    },
    {
      "cell_type": "code",
      "execution_count": 6,
      "metadata": {
        "id": "QhFXiPB1lb2H"
      },
      "outputs": [],
      "source": [
        "# partial products\n",
        "@njit\n",
        "def pp(i, x, y, p):\n",
        "    temp = np.zeros((1,), 'uint64')\n",
        "    c = np.zeros((1,), 'uint32')\n",
        "    for j in range(32-i):\n",
        "        temp[0] = x[i]*y[j]\n",
        "        p[i+j] = c[0]+temp[0]\n",
        "        c[0] = temp[0] >> 32"
      ]
    },
    {
      "cell_type": "code",
      "execution_count": 7,
      "metadata": {
        "id": "XBxt34HM5B7d"
      },
      "outputs": [],
      "source": [
        "# multiply (uses pp and add)\n",
        "@njit\n",
        "def multiply(x, y, res):\n",
        "    temp = np.zeros((32,), 'uint32')\n",
        "    for i in range(31):\n",
        "        p = np.zeros((32,), 'uint32')\n",
        "        pp(i, x, y, p)\n",
        "        add(temp, p, res)\n",
        "        temp = res.copy()"
      ]
    },
    {
      "cell_type": "code",
      "execution_count": 8,
      "metadata": {
        "id": "ZGQJ9-2TmV0d"
      },
      "outputs": [],
      "source": [
        "@njit\n",
        "def divmod_single_word(x, y):\n",
        "    scale = 1\n",
        "    while y * scale <= x:\n",
        "        scale <<= 1\n",
        "\n",
        "    quotient = 0\n",
        "    remainder = x\n",
        "    \n",
        "    while scale > 0:\n",
        "        q = remainder // (y * scale)\n",
        "        quotient += q * scale\n",
        "        remainder -= q * y * scale\n",
        "        scale >>= 1\n",
        "        \n",
        "    return quotient, remainder"
      ]
    },
    {
      "cell_type": "code",
      "source": [
        "@njit\n",
        "def ndivmod(x,y,q,r):\n",
        "    rpass = np.zeros_like(x)\n",
        "    qpass = np.zeros_like(x)\n",
        "    temp = np.zeros_like(x)\n",
        "    zero = np.zeros_like(x)\n",
        "\n",
        "    i = len(x)-1\n",
        "    j = len(y)-1\n",
        "    while True:\n",
        "        if x[i]!=0 or i==0:\n",
        "            break\n",
        "        i -= 1\n",
        "    while True:\n",
        "        if y[j]!=0 or j==0:\n",
        "            break\n",
        "        j -= 1\n",
        "\n",
        "    borrow = subtract(x, y, rpass) # Takes care of x smaller than y\n",
        "    add(zero,x,r)\n",
        "    add(zero,zero,q)\n",
        "\n",
        "    while borrow == 0:\n",
        "        while True:\n",
        "            if r[i]!=0 or i==0:\n",
        "                break\n",
        "            i -= 1\n",
        "    \n",
        "        if i == j:\n",
        "            qpass[0] = r[i]//y[j]\n",
        "            multiply(y, qpass, temp)\n",
        "            borrow = subtract(r, temp, rpass)\n",
        "\n",
        "        elif i > j:\n",
        "            qpass[i-j] = 1\n",
        "            qpass[0] = r[i]//y[j]\n",
        "            multiply(qpass, y, temp)\n",
        "            borrow = subtract(r, temp, rpass)\n",
        "            if borrow == 1:\n",
        "                id = 32\n",
        "                qpass[i-j] = 0\n",
        "            while borrow == 1 and id>0:\n",
        "                id -= 1\n",
        "                qpass[i-j-1] = 1<<id\n",
        "                multiply(qpass, y, temp)\n",
        "                borrow = subtract(r, temp, rpass)\n",
        "\n",
        "        add(zero,q,temp)\n",
        "        add(temp,qpass,q)\n",
        "        add(zero,rpass,r)\n",
        "        add(zero,zero,qpass)\n",
        "\n",
        "        borrow = subtract(r, y, rpass)\n",
        "\n",
        "    return"
      ],
      "metadata": {
        "id": "sxQwNTz2FrAX"
      },
      "execution_count": 9,
      "outputs": []
    },
    {
      "cell_type": "code",
      "execution_count": 10,
      "metadata": {
        "id": "W6MxqixPmV0g",
        "colab": {
          "base_uri": "https://localhost:8080/"
        },
        "outputId": "d92fb4f9-9b53-4984-e857-ab4ae72dfdd0"
      },
      "outputs": [
        {
          "output_type": "stream",
          "name": "stdout",
          "text": [
            "(1814379016230978282656, 24190308200534009483495275435379895)\n",
            "(1814379016230978282656, 24190308200534009483495275435379895)\n"
          ]
        }
      ],
      "source": [
        "x1 = np.zeros((32,), dtype='uint32')\n",
        "y1 = np.zeros((32,), dtype='uint32')\n",
        "q = np.zeros((32,), dtype='uint32')\n",
        "r = np.zeros((32,), dtype='uint32')\n",
        "ndivmod(x1,int2numpy(1),q,r)\n",
        "\n",
        "a = (77818729899876987989787979889573673298769879424242323799)\n",
        "b = (42890007657567798765765757787275009)\n",
        "x1 = int2numpy(a)\n",
        "y1 = int2numpy(b)\n",
        "# print(np.flip(x1))\n",
        "# print(np.flip(y1))\n",
        "\n",
        "ndivmod(x1, y1, q, r)\n",
        "print((numpy2int(q),numpy2int(r)))\n",
        "print(divmod(a,b))"
      ]
    },
    {
      "cell_type": "code",
      "source": [
        "%timeit ndivmod(x1, y1, q, r)\n",
        "%timeit divmod(a,b)"
      ],
      "metadata": {
        "id": "Jsw24zMzkv19",
        "colab": {
          "base_uri": "https://localhost:8080/"
        },
        "outputId": "4d1e072c-f199-47f5-c439-48d31d27df65"
      },
      "execution_count": 11,
      "outputs": [
        {
          "output_type": "stream",
          "name": "stdout",
          "text": [
            "34.5 ms ± 9.5 ms per loop (mean ± std. dev. of 7 runs, 10 loops each)\n",
            "230 ns ± 10.9 ns per loop (mean ± std. dev. of 7 runs, 1000000 loops each)\n"
          ]
        }
      ]
    },
    {
      "cell_type": "code",
      "source": [],
      "metadata": {
        "id": "b0E0tTDFnvQE"
      },
      "execution_count": 11,
      "outputs": []
    }
  ],
  "metadata": {
    "colab": {
      "provenance": []
    },
    "kernelspec": {
      "display_name": "Python [conda env:sci-comp]",
      "language": "python",
      "name": "conda-env-sci-comp-py"
    },
    "language_info": {
      "codemirror_mode": {
        "name": "ipython",
        "version": 3
      },
      "file_extension": ".py",
      "mimetype": "text/x-python",
      "name": "python",
      "nbconvert_exporter": "python",
      "pygments_lexer": "ipython3",
      "version": "3.8.10"
    },
    "toc": {
      "base_numbering": 1,
      "nav_menu": {},
      "number_sections": true,
      "sideBar": true,
      "skip_h1_title": false,
      "title_cell": "Table of Contents",
      "title_sidebar": "Contents",
      "toc_cell": false,
      "toc_position": {
        "height": "calc(100% - 180px)",
        "left": "10px",
        "top": "150px",
        "width": "343px"
      },
      "toc_section_display": true,
      "toc_window_display": true
    }
  },
  "nbformat": 4,
  "nbformat_minor": 0
}
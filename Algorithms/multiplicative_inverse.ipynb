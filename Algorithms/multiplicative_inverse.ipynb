{
 "cells": [
  {
   "attachments": {},
   "cell_type": "markdown",
   "metadata": {},
   "source": [
    "## Finding inverses of a number of a number modulo p"
   ]
  },
  {
   "attachments": {},
   "cell_type": "markdown",
   "metadata": {},
   "source": [
    "#### Trivial Way O(p)"
   ]
  },
  {
   "cell_type": "code",
   "execution_count": 8,
   "metadata": {},
   "outputs": [],
   "source": [
    "def inverse_dumb(a, p):\n",
    "    for i in range(1, p):\n",
    "        if a*i % p == 1:\n",
    "            return i\n",
    "    return -1"
   ]
  },
  {
   "attachments": {},
   "cell_type": "markdown",
   "metadata": {},
   "source": [
    "#### Extended Euclid's Alogrithm O(log ap)"
   ]
  },
  {
   "cell_type": "code",
   "execution_count": 20,
   "metadata": {},
   "outputs": [],
   "source": [
    "def inverse_euclid(a, p):\n",
    "    gcd, x, y = euclid_gcd(a, p)\n",
    "    if x < 0:\n",
    "        x += p\n",
    "    return x\n",
    "\n",
    "def euclid_gcd(a,b):\n",
    "    s = 0; old_s = 1\n",
    "    t = 1; old_t = 0\n",
    "    r = b; old_r = a\n",
    "\n",
    "    while r != 0:\n",
    "        quotient = old_r//r\n",
    "        old_r, r = r, old_r - quotient*r\n",
    "        old_s, s = s, old_s - quotient*s\n",
    "        old_t, t = t, old_t - quotient*t\n",
    "        \n",
    "    return [old_r, old_s, old_t]\n"
   ]
  },
  {
   "attachments": {},
   "cell_type": "markdown",
   "metadata": {},
   "source": [
    "Fast Power Algorithm (Fermat)"
   ]
  },
  {
   "cell_type": "code",
   "execution_count": 10,
   "metadata": {},
   "outputs": [],
   "source": [
    "def inverse_fermat(a, p):\n",
    "    return fast_power(a, p-2, p)\n",
    "    \n",
    "def fast_power(base, power, MOD):\n",
    "    result = 1\n",
    "    while power > 0:\n",
    "        if power % 2 == 1:\n",
    "            result = (result * base) % MOD\n",
    "\n",
    "        power = power // 2\n",
    "        base = (base * base) % MOD\n",
    "    return result"
   ]
  },
  {
   "cell_type": "code",
   "execution_count": 24,
   "metadata": {},
   "outputs": [
    {
     "name": "stdout",
     "output_type": "stream",
     "text": [
      "CPU times: user 1min 9s, sys: 0 ns, total: 1min 9s\n",
      "Wall time: 1min 9s\n"
     ]
    },
    {
     "data": {
      "text/plain": [
       "739130440"
      ]
     },
     "execution_count": 24,
     "metadata": {},
     "output_type": "execute_result"
    }
   ],
   "source": [
    "%%time\n",
    "inverse_dumb(23, 1000000007)"
   ]
  },
  {
   "attachments": {},
   "cell_type": "markdown",
   "metadata": {},
   "source": [
    "1 minute is too much, let's see how the faster ones perform"
   ]
  },
  {
   "cell_type": "code",
   "execution_count": 27,
   "metadata": {},
   "outputs": [
    {
     "name": "stdout",
     "output_type": "stream",
     "text": [
      "1.25 µs ± 26.7 ns per loop (mean ± std. dev. of 7 runs, 1,000,000 loops each)\n"
     ]
    }
   ],
   "source": [
    "%%timeit\n",
    "inverse_euclid(23, 1000000007)"
   ]
  },
  {
   "cell_type": "code",
   "execution_count": 28,
   "metadata": {},
   "outputs": [
    {
     "name": "stdout",
     "output_type": "stream",
     "text": [
      "5.28 µs ± 65.8 ns per loop (mean ± std. dev. of 7 runs, 100,000 loops each)\n"
     ]
    }
   ],
   "source": [
    "%%timeit\n",
    "inverse_fermat(23, 1000000007)"
   ]
  },
  {
   "attachments": {},
   "cell_type": "markdown",
   "metadata": {},
   "source": [
    "Clearly, there are faster algorithms that we can implement for calculating inverses. This will helpful in point addition and multiplication over elliptic curves"
   ]
  }
 ],
 "metadata": {
  "kernelspec": {
   "display_name": "AE6102",
   "language": "python",
   "name": "python3"
  },
  "language_info": {
   "codemirror_mode": {
    "name": "ipython",
    "version": 3
   },
   "file_extension": ".py",
   "mimetype": "text/x-python",
   "name": "python",
   "nbconvert_exporter": "python",
   "pygments_lexer": "ipython3",
   "version": "3.8.10"
  },
  "orig_nbformat": 4
 },
 "nbformat": 4,
 "nbformat_minor": 2
}

{
 "cells": [
  {
   "cell_type": "code",
   "execution_count": 2,
   "metadata": {},
   "outputs": [],
   "source": [
    "import numpy as np\n",
    "from multiplicative_inverse import *"
   ]
  },
  {
   "cell_type": "code",
   "execution_count": 21,
   "metadata": {},
   "outputs": [],
   "source": [
    "def bits(n):\n",
    "        while n:\n",
    "            yield n & 1\n",
    "            n >>= 1"
   ]
  },
  {
   "attachments": {},
   "cell_type": "markdown",
   "metadata": {},
   "source": [
    "#### Point Doubling \n",
    "Given a point P over a Weistrass Elliptic Curve E: y^2 =x^3+a*x+b, it returns 2P"
   ]
  },
  {
   "cell_type": "code",
   "execution_count": 30,
   "metadata": {},
   "outputs": [],
   "source": [
    "def doubleP(P):\n",
    "    if P is None:\n",
    "        return (None,None)\n",
    "    x,y = P\n",
    "    m = (3*x*x+a) * inverse_euclid(2*y, p)%p\n",
    "    x1 = m*m - 2*x\n",
    "    y1 = m*(x-x1) - y\n",
    "    return (x1%p, y1%p)"
   ]
  },
  {
   "attachments": {},
   "cell_type": "markdown",
   "metadata": {},
   "source": [
    "#### Point Addition\n",
    "Given 2 points P and Q over a Weistrass Elliptic Curve E: y^2 =x^3+a*x+b, it returns P+Q"
   ]
  },
  {
   "cell_type": "code",
   "execution_count": 85,
   "metadata": {},
   "outputs": [],
   "source": [
    "def AddPQ(P, Q):\n",
    "    if P is None or Q is None:\n",
    "        return P or Q\n",
    "    xp, yp = P\n",
    "    xq, yq = Q\n",
    "    if xp == xq:\n",
    "        return doubleP(P)\n",
    "    m = (yq-yp) * inverse_euclid((xq-xp), p)%p\n",
    "    xr = m*m - xp - xq\n",
    "    yr = m*(xp-xr) - yp\n",
    "    return (xr%p, yr%p)"
   ]
  },
  {
   "cell_type": "code",
   "execution_count": 90,
   "metadata": {},
   "outputs": [],
   "source": [
    "def DoubleAndAdd(k, P):\n",
    "    Q = None\n",
    "    tmp = P\n",
    "    for b in bits(k):\n",
    "        if b:\n",
    "            Q = AddPQ(Q, tmp)\n",
    "        tmp = doubleP(tmp)\n",
    "    return Q"
   ]
  },
  {
   "cell_type": "code",
   "execution_count": 87,
   "metadata": {},
   "outputs": [],
   "source": [
    "def recursive_DnA(P, d):\n",
    "    if(d==0):\n",
    "       return 0\n",
    "    elif (d == 1):\n",
    "        return P\n",
    "    elif(d%2 == 1 ):\n",
    "        return AddPQ(P, recursive_DnA(P, d - 1))\n",
    "    else:\n",
    "        return recursive_DnA(doubleP(P), d / 2)"
   ]
  },
  {
   "cell_type": "code",
   "execution_count": 58,
   "metadata": {},
   "outputs": [],
   "source": [
    "def MontgomeryLadder(k,P):\n",
    "    bin_k = bin(k)[2:]\n",
    "    l = len(bin_k)\n",
    "    R0 = P\n",
    "    R1 = doubleP(P)\n",
    "    for i in range(l-2, -1, -1):\n",
    "        if(bin_k[i]=='1'):\n",
    "            R1 = AddPQ(R0, R1)\n",
    "            R0 = doubleP(R0)\n",
    "        else:\n",
    "            R0 = AddPQ(R0, R1)\n",
    "            R1 = doubleP(R1)\n",
    "    return R0"
   ]
  },
  {
   "cell_type": "code",
   "execution_count": 77,
   "metadata": {},
   "outputs": [],
   "source": [
    "def JoyesDoubleandAdd(k,P):\n",
    "    bin_k = bin(k)[2:]\n",
    "    l = len(bin_k)\n",
    "    R0 = (0,0)\n",
    "    R1 = P\n",
    "    for j in range(0,l):\n",
    "        b = 1 - int(bin_k[j])\n",
    "        if(b==1):\n",
    "            R1 = AddPQ(doubleP(R1), R0)\n",
    "        else:\n",
    "            R0 = AddPQ(doubleP(R0), R1)\n",
    "    return R0"
   ]
  },
  {
   "attachments": {},
   "cell_type": "markdown",
   "metadata": {},
   "source": [
    "#### Basic Elliptic Curve\n",
    " y^2 = x^3+2x+2 over GF(17)"
   ]
  },
  {
   "cell_type": "code",
   "execution_count": 91,
   "metadata": {},
   "outputs": [],
   "source": [
    "P = (5,1)\n",
    "p = 17\n",
    "a = 2\n",
    "b = 2"
   ]
  },
  {
   "cell_type": "code",
   "execution_count": 92,
   "metadata": {},
   "outputs": [
    {
     "name": "stdout",
     "output_type": "stream",
     "text": [
      "104 µs ± 8 µs per loop (mean ± std. dev. of 7 runs, 10,000 loops each)\n"
     ]
    }
   ],
   "source": [
    "%%timeit\n",
    "for i in range(1,17):\n",
    "    DoubleAndAdd(i,P)"
   ]
  },
  {
   "cell_type": "code",
   "execution_count": 93,
   "metadata": {},
   "outputs": [
    {
     "name": "stdout",
     "output_type": "stream",
     "text": [
      "86.5 µs ± 3.83 µs per loop (mean ± std. dev. of 7 runs, 10,000 loops each)\n"
     ]
    }
   ],
   "source": [
    "%%timeit\n",
    "for i in range(1,17):\n",
    "    recursive_DnA(P,i)"
   ]
  },
  {
   "cell_type": "code",
   "execution_count": 94,
   "metadata": {},
   "outputs": [
    {
     "name": "stdout",
     "output_type": "stream",
     "text": [
      "130 µs ± 7.83 µs per loop (mean ± std. dev. of 7 runs, 10,000 loops each)\n"
     ]
    }
   ],
   "source": [
    "%%timeit\n",
    "for i in range(1,17):\n",
    "    MontgomeryLadder(i, P)"
   ]
  },
  {
   "cell_type": "code",
   "execution_count": 95,
   "metadata": {},
   "outputs": [
    {
     "name": "stdout",
     "output_type": "stream",
     "text": [
      "159 µs ± 24.3 µs per loop (mean ± std. dev. of 7 runs, 1,000 loops each)\n"
     ]
    }
   ],
   "source": [
    "%%timeit\n",
    "for i in range(1,17):\n",
    "    JoyesDoubleandAdd(i,P)"
   ]
  },
  {
   "attachments": {},
   "cell_type": "markdown",
   "metadata": {},
   "source": [
    "#### Standard NIST Curve\n",
    "P-192"
   ]
  },
  {
   "cell_type": "code",
   "execution_count": 98,
   "metadata": {},
   "outputs": [],
   "source": [
    "# P-192\n",
    "a = 0xfffffffffffffffffffffffffffffffefffffffffffffffc\n",
    "b = 0x64210519e59c80e70fa7e9ab72243049feb8deecc146b9b1\n",
    "p = 0xfffffffffffffffffffffffffffffffeffffffffffffffff\n",
    "P = (5494321275547065940224404962766241274126288605717610067880, 5174491502116587515140256418920053739796636388699478412802)\n"
   ]
  },
  {
   "cell_type": "code",
   "execution_count": 107,
   "metadata": {},
   "outputs": [
    {
     "name": "stdout",
     "output_type": "stream",
     "text": [
      "131 ms ± 8.47 ms per loop (mean ± std. dev. of 7 runs, 10 loops each)\n"
     ]
    }
   ],
   "source": [
    "%%timeit\n",
    "for i in range(0,256):\n",
    "    DoubleAndAdd(i,P)\n"
   ]
  },
  {
   "cell_type": "code",
   "execution_count": 108,
   "metadata": {},
   "outputs": [
    {
     "name": "stdout",
     "output_type": "stream",
     "text": [
      "123 ms ± 10.9 ms per loop (mean ± std. dev. of 7 runs, 10 loops each)\n"
     ]
    }
   ],
   "source": [
    "%%timeit\n",
    "for i in range(0,256):\n",
    "    recursive_DnA(P,i)\n"
   ]
  },
  {
   "cell_type": "code",
   "execution_count": 109,
   "metadata": {},
   "outputs": [
    {
     "name": "stdout",
     "output_type": "stream",
     "text": [
      "165 ms ± 7.44 ms per loop (mean ± std. dev. of 7 runs, 10 loops each)\n"
     ]
    }
   ],
   "source": [
    "%%timeit\n",
    "for i in range(0,256):\n",
    "    MontgomeryLadder(i, P)"
   ]
  },
  {
   "cell_type": "code",
   "execution_count": 110,
   "metadata": {},
   "outputs": [
    {
     "name": "stdout",
     "output_type": "stream",
     "text": [
      "187 ms ± 17.3 ms per loop (mean ± std. dev. of 7 runs, 10 loops each)\n"
     ]
    }
   ],
   "source": [
    "%%timeit\n",
    "for i in range(0,256):\n",
    "    JoyesDoubleandAdd(i, P)"
   ]
  },
  {
   "attachments": {},
   "cell_type": "markdown",
   "metadata": {},
   "source": [
    "#### Observation\n",
    "In the case of a simple curve and a NIST P Curve we saw that the time taken was the least for recursive Double and Add method and the highest for Joye's Double and Add Method."
   ]
  }
 ],
 "metadata": {
  "kernelspec": {
   "display_name": "env",
   "language": "python",
   "name": "python3"
  },
  "language_info": {
   "codemirror_mode": {
    "name": "ipython",
    "version": 3
   },
   "file_extension": ".py",
   "mimetype": "text/x-python",
   "name": "python",
   "nbconvert_exporter": "python",
   "pygments_lexer": "ipython3",
   "version": "3.8.10"
  },
  "orig_nbformat": 4
 },
 "nbformat": 4,
 "nbformat_minor": 2
}

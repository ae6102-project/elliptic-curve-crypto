{
 "cells": [
  {
   "cell_type": "code",
   "execution_count": 2,
   "metadata": {},
   "outputs": [],
   "source": [
    "import numpy as np\n",
    "from multiplicative_inverse import *"
   ]
  },
  {
   "cell_type": "code",
   "execution_count": 3,
   "metadata": {},
   "outputs": [],
   "source": [
    "def bits(n):\n",
    "        while n:\n",
    "            yield n & 1\n",
    "            n >>= 1"
   ]
  },
  {
   "attachments": {},
   "cell_type": "markdown",
   "metadata": {},
   "source": [
    "#### Point Doubling \n",
    "Given a point P over a Weistrass Elliptic Curve E: y^2 =x^3+a*x+b, it returns 2P"
   ]
  },
  {
   "cell_type": "code",
   "execution_count": 4,
   "metadata": {},
   "outputs": [],
   "source": [
    "def doubleP(P, a , p):\n",
    "    if P is None:\n",
    "        return (None,None)\n",
    "    x,y = P\n",
    "    m = (3*x*x+a) * inverse_euclid(2*y, p)%p\n",
    "    x1 = m*m - 2*x\n",
    "    y1 = m*(x-x1) - y\n",
    "    return (x1%p, y1%p)"
   ]
  },
  {
   "attachments": {},
   "cell_type": "markdown",
   "metadata": {},
   "source": [
    "#### Point Addition\n",
    "Given 2 points P and Q over a Weistrass Elliptic Curve E: y^2 =x^3+a*x+b, it returns P+Q"
   ]
  },
  {
   "cell_type": "code",
   "execution_count": 5,
   "metadata": {},
   "outputs": [],
   "source": [
    "def AddPQ(P, Q, a , p):\n",
    "    if P is None or Q is None:\n",
    "        return P or Q\n",
    "    xp, yp = P\n",
    "    xq, yq = Q\n",
    "    if xp == xq:\n",
    "        return doubleP(P, a , p)\n",
    "    m = (yq-yp) * inverse_euclid((xq-xp), p)%p\n",
    "    xr = m*m - xp - xq\n",
    "    yr = m*(xp-xr) - yp\n",
    "    return (xr%p, yr%p)"
   ]
  },
  {
   "cell_type": "code",
   "execution_count": 6,
   "metadata": {},
   "outputs": [],
   "source": [
    "def DoubleAndAdd(k, P, a , p):\n",
    "    Q = None\n",
    "    tmp = P\n",
    "    for b in bits(k):\n",
    "        if b:\n",
    "            Q = AddPQ(Q, tmp, a , p)\n",
    "        tmp = doubleP(tmp, a , p)\n",
    "    return Q"
   ]
  },
  {
   "cell_type": "code",
   "execution_count": 7,
   "metadata": {},
   "outputs": [],
   "source": [
    "def recursive_DnA(P, d, a , p):\n",
    "    if(d==0):\n",
    "       return 0\n",
    "    elif (d == 1):\n",
    "        return P\n",
    "    elif(d%2 == 1 ):\n",
    "        return AddPQ(P, recursive_DnA(P, d - 1, a , p), a , p)\n",
    "    else:\n",
    "        return recursive_DnA(doubleP(P, a , p), d / 2, a , p)"
   ]
  },
  {
   "cell_type": "code",
   "execution_count": 14,
   "metadata": {},
   "outputs": [],
   "source": [
    "def MontgomeryLadder(k,P, a , p):\n",
    "    bin_k = bin(k)[2:]\n",
    "    l = len(bin_k)\n",
    "    R0 = P\n",
    "    R1 = doubleP(P, a , p)\n",
    "    for i in range(l-2, -1, -1):\n",
    "        if(bin_k[i]=='1'):\n",
    "            R1 = AddPQ(R0, R1, a , p)\n",
    "            R0 = doubleP(R0, a , p)\n",
    "        else:\n",
    "            R0 = AddPQ(R0, R1, a , p)\n",
    "            R1 = doubleP(R1, a , p)\n",
    "    return R0"
   ]
  },
  {
   "cell_type": "code",
   "execution_count": 9,
   "metadata": {},
   "outputs": [],
   "source": [
    "def JoyesDoubleandAdd(k,P, a , p):\n",
    "    bin_k = bin(k)[2:]\n",
    "    l = len(bin_k)\n",
    "    R0 = (0,0)\n",
    "    R1 = P\n",
    "    for j in range(0,l):\n",
    "        b = 1 - int(bin_k[j])\n",
    "        if(b==1):\n",
    "            R1 = AddPQ(doubleP(R1, a , p), R0, a , p)\n",
    "        else:\n",
    "            R0 = AddPQ(doubleP(R0, a , p), R1, a , p)\n",
    "    return R0"
   ]
  },
  {
   "attachments": {},
   "cell_type": "markdown",
   "metadata": {},
   "source": [
    "#### Basic Elliptic Curve\n",
    " y^2 = x^3+2x+2 over GF(17)"
   ]
  },
  {
   "cell_type": "code",
   "execution_count": 10,
   "metadata": {},
   "outputs": [],
   "source": [
    "P = (5,1)\n",
    "p = 17\n",
    "a = 2\n",
    "b = 2"
   ]
  },
  {
   "cell_type": "code",
   "execution_count": 11,
   "metadata": {},
   "outputs": [
    {
     "name": "stdout",
     "output_type": "stream",
     "text": [
      "108 µs ± 11.9 µs per loop (mean ± std. dev. of 7 runs, 10,000 loops each)\n"
     ]
    }
   ],
   "source": [
    "%%timeit\n",
    "for i in range(1,17):\n",
    "    DoubleAndAdd(i,P, a , p)"
   ]
  },
  {
   "cell_type": "code",
   "execution_count": 12,
   "metadata": {},
   "outputs": [
    {
     "name": "stdout",
     "output_type": "stream",
     "text": [
      "83.7 µs ± 1.74 µs per loop (mean ± std. dev. of 7 runs, 10,000 loops each)\n"
     ]
    }
   ],
   "source": [
    "%%timeit\n",
    "for i in range(1,17):\n",
    "    recursive_DnA(P,i, a , p)"
   ]
  },
  {
   "cell_type": "code",
   "execution_count": 15,
   "metadata": {},
   "outputs": [
    {
     "name": "stdout",
     "output_type": "stream",
     "text": [
      "125 µs ± 6.96 µs per loop (mean ± std. dev. of 7 runs, 10,000 loops each)\n"
     ]
    }
   ],
   "source": [
    "%%timeit\n",
    "for i in range(1,17):\n",
    "    MontgomeryLadder(i, P, a , p)"
   ]
  },
  {
   "cell_type": "code",
   "execution_count": 16,
   "metadata": {},
   "outputs": [
    {
     "name": "stdout",
     "output_type": "stream",
     "text": [
      "153 µs ± 10.1 µs per loop (mean ± std. dev. of 7 runs, 10,000 loops each)\n"
     ]
    }
   ],
   "source": [
    "%%timeit\n",
    "for i in range(1,17):\n",
    "    JoyesDoubleandAdd(i,P, a , p)"
   ]
  },
  {
   "attachments": {},
   "cell_type": "markdown",
   "metadata": {},
   "source": [
    "#### Standard NIST Curve\n",
    "P-192"
   ]
  },
  {
   "cell_type": "code",
   "execution_count": 17,
   "metadata": {},
   "outputs": [],
   "source": [
    "# P-192\n",
    "a = 0xfffffffffffffffffffffffffffffffefffffffffffffffc\n",
    "b = 0x64210519e59c80e70fa7e9ab72243049feb8deecc146b9b1\n",
    "p = 0xfffffffffffffffffffffffffffffffeffffffffffffffff\n",
    "P = (5494321275547065940224404962766241274126288605717610067880, 5174491502116587515140256418920053739796636388699478412802)\n"
   ]
  },
  {
   "cell_type": "code",
   "execution_count": 18,
   "metadata": {},
   "outputs": [
    {
     "name": "stdout",
     "output_type": "stream",
     "text": [
      "152 ms ± 9.4 ms per loop (mean ± std. dev. of 7 runs, 10 loops each)\n"
     ]
    }
   ],
   "source": [
    "%%timeit\n",
    "for i in range(0,256):\n",
    "    DoubleAndAdd(i,P, a , p)\n"
   ]
  },
  {
   "cell_type": "code",
   "execution_count": 19,
   "metadata": {},
   "outputs": [
    {
     "name": "stdout",
     "output_type": "stream",
     "text": [
      "131 ms ± 6.36 ms per loop (mean ± std. dev. of 7 runs, 10 loops each)\n"
     ]
    }
   ],
   "source": [
    "%%timeit\n",
    "for i in range(0,256):\n",
    "    recursive_DnA(P,i, a , p)\n"
   ]
  },
  {
   "cell_type": "code",
   "execution_count": 20,
   "metadata": {},
   "outputs": [
    {
     "name": "stdout",
     "output_type": "stream",
     "text": [
      "186 ms ± 5.3 ms per loop (mean ± std. dev. of 7 runs, 1 loop each)\n"
     ]
    }
   ],
   "source": [
    "%%timeit\n",
    "for i in range(0,256):\n",
    "    MontgomeryLadder(i, P, a , p)"
   ]
  },
  {
   "cell_type": "code",
   "execution_count": 21,
   "metadata": {},
   "outputs": [
    {
     "name": "stdout",
     "output_type": "stream",
     "text": [
      "190 ms ± 7.87 ms per loop (mean ± std. dev. of 7 runs, 10 loops each)\n"
     ]
    }
   ],
   "source": [
    "%%timeit\n",
    "for i in range(0,256):\n",
    "    JoyesDoubleandAdd(i, P, a , p)"
   ]
  },
  {
   "attachments": {},
   "cell_type": "markdown",
   "metadata": {},
   "source": [
    "#### Observation\n",
    "In the case of a simple curve and a NIST P Curve we saw that the time taken was the least for recursive Double and Add method and the highest for Joye's Double and Add Method."
   ]
  }
 ],
 "metadata": {
  "kernelspec": {
   "display_name": "env",
   "language": "python",
   "name": "python3"
  },
  "language_info": {
   "codemirror_mode": {
    "name": "ipython",
    "version": 3
   },
   "file_extension": ".py",
   "mimetype": "text/x-python",
   "name": "python",
   "nbconvert_exporter": "python",
   "pygments_lexer": "ipython3",
   "version": "3.8.10"
  },
  "orig_nbformat": 4
 },
 "nbformat": 4,
 "nbformat_minor": 2
}

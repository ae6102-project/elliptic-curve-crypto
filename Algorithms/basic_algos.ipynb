{
 "cells": [
  {
   "cell_type": "code",
   "execution_count": null,
   "metadata": {},
   "outputs": [],
   "source": [
    "import numpy as np"
   ]
  },
  {
   "cell_type": "code",
   "execution_count": 1,
   "metadata": {},
   "outputs": [],
   "source": [
    "def DoubleAndAdd(k, P):\n",
    "    bin_k = bin(k)[2:]\n",
    "    l = len(bin_k)\n",
    "    Q = 0\n",
    "    for i in range(0, l):\n",
    "        if(bin_k[i]=='1'):\n",
    "            Q = Q + P\n",
    "        P = 2*P\n",
    "    return Q"
   ]
  },
  {
   "cell_type": "code",
   "execution_count": null,
   "metadata": {},
   "outputs": [],
   "source": [
    "def MontgomeryLadder(k,P):\n",
    "    bin_k = bin(k)[2:]\n",
    "    l = len(bin_k)\n",
    "    R0 = P\n",
    "    R1 = 2*P\n",
    "    for i in range(l-2, -1, -1):\n",
    "        if(bin_k[i]=='1'):\n",
    "            R1 = R0 + R1\n",
    "            R0 = 2*R0\n",
    "        else:\n",
    "            R0 = R0 + R1\n",
    "            R1 = 2*R1\n",
    "    return R0"
   ]
  },
  {
   "cell_type": "code",
   "execution_count": null,
   "metadata": {},
   "outputs": [],
   "source": [
    "def JoyesDoubleandAdd(k,P):\n",
    "    bin_k = bin(k)[2:]\n",
    "    l = len(bin_k)\n",
    "    R0 = 0\n",
    "    R1 = P\n",
    "    for j in range(o,l):\n",
    "        b = 1 - int(bin_k[j])\n",
    "        if(b==1):\n",
    "            R1 = 2*R1 + R0\n",
    "        else:\n",
    "            R0 = 2*R0 + R1\n",
    "    return R0"
   ]
  }
 ],
 "metadata": {
  "kernelspec": {
   "display_name": "env",
   "language": "python",
   "name": "python3"
  },
  "language_info": {
   "codemirror_mode": {
    "name": "ipython",
    "version": 3
   },
   "file_extension": ".py",
   "mimetype": "text/x-python",
   "name": "python",
   "nbconvert_exporter": "python",
   "pygments_lexer": "ipython3",
   "version": "3.8.10"
  },
  "orig_nbformat": 4
 },
 "nbformat": 4,
 "nbformat_minor": 2
}
